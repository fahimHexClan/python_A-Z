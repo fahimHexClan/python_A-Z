{
 "cells": [
  {
   "cell_type": "code",
   "execution_count": null,
   "metadata": {},
   "outputs": [
    {
     "name": "stdout",
     "output_type": "stream",
     "text": [
      "apple\n",
      "banana\n",
      "Cherry\n"
     ]
    }
   ],
   "source": [
    "# for loop with list\n",
    "fruits =[\"apple\",\"banana\",\"Cherry\"]\n",
    "for fruit in fruits:\n",
    "    print(fruit)"
   ]
  },
  {
   "cell_type": "code",
   "execution_count": null,
   "metadata": {},
   "outputs": [
    {
     "name": "stdout",
     "output_type": "stream",
     "text": [
      "[1, 4, 16]\n"
     ]
    }
   ],
   "source": [
    "# for loop with list exersice 01\n",
    "numbers = [1,2,4]\n",
    "# newList=[]\n",
    "# for number in numbers:\n",
    "#     newList.append(number*number)\n",
    "# print(newList)\n",
    "\n",
    "# other option\n",
    "print([x**2 for x in numbers])"
   ]
  },
  {
   "cell_type": "code",
   "execution_count": null,
   "metadata": {},
   "outputs": [
    {
     "name": "stdout",
     "output_type": "stream",
     "text": [
      "[4, 16, 36, 64]\n",
      "[4, 16, 36, 64, 100]\n"
     ]
    }
   ],
   "source": [
    "# for loop with list exersice 02\n",
    "# using range\n",
    "print([x**2 for x in range(2,10,2)])\n",
    "# using if condition\n",
    "print([x**2 for x in range(1,11) if x%2==0])"
   ]
  },
  {
   "cell_type": "code",
   "execution_count": 4,
   "metadata": {},
   "outputs": [
    {
     "name": "stdout",
     "output_type": "stream",
     "text": [
      "2\n",
      "5\n",
      "8\n",
      "11\n",
      "14\n"
     ]
    }
   ],
   "source": [
    "# for loop with list range\n",
    "myRanges= range(2,16,3)\n",
    "for myrange in myRanges:\n",
    "    print(myrange)"
   ]
  },
  {
   "cell_type": "code",
   "execution_count": 2,
   "metadata": {},
   "outputs": [
    {
     "name": "stdout",
     "output_type": "stream",
     "text": [
      "1 2 3 4 5 6 7 8 9 End\n"
     ]
    }
   ],
   "source": [
    "# while loop\n",
    "x= 10\n",
    "i=1\n",
    "while x>i:\n",
    "    print(i,end=\" \")\n",
    "    i=i+1\n",
    "print(\"End\")"
   ]
  },
  {
   "cell_type": "code",
   "execution_count": null,
   "metadata": {},
   "outputs": [
    {
     "name": "stdout",
     "output_type": "stream",
     "text": [
      "0\n",
      "2\n",
      "4\n",
      "6\n",
      "8\n"
     ]
    }
   ],
   "source": [
    "# while loop exersice 01\n",
    "x = int(input(\"Enter number: \"))\n",
    "y=0\n",
    "while y<x:\n",
    "    if y==10:\n",
    "        break\n",
    "    else:\n",
    "        print(y)\n",
    "        y+=2"
   ]
  },
  {
   "cell_type": "code",
   "execution_count": 6,
   "metadata": {},
   "outputs": [
    {
     "name": "stdout",
     "output_type": "stream",
     "text": [
      "121\n"
     ]
    }
   ],
   "source": [
    "# while loop exersice 02\n",
    "y=0\n",
    "while True:\n",
    "    x = int(input(\"Enter Number: \"))\n",
    "    if x == 0:\n",
    "        print(y)\n",
    "        break\n",
    "    else:\n",
    "        y+=x\n"
   ]
  },
  {
   "cell_type": "code",
   "execution_count": 15,
   "metadata": {},
   "outputs": [
    {
     "name": "stdout",
     "output_type": "stream",
     "text": [
      "3\n",
      "15\n",
      "9\n",
      "7\n"
     ]
    }
   ],
   "source": [
    "# while loop exersice 03\n",
    "\n",
    "\n",
    "my_list=[3,8,15,10,9,7,14]\n",
    "# i=0\n",
    "# while len(my_list):\n",
    "#     if my_list[i]%2==0:\n",
    "#         continue\n",
    "#     else:\n",
    "#         print(my_list[i])\n",
    "#     i=i+1\n",
    "\n",
    "for x in my_list:\n",
    "    if x%2==0:\n",
    "        continue\n",
    "    else:\n",
    "        print(x)\n",
    "    \n"
   ]
  }
 ],
 "metadata": {
  "kernelspec": {
   "display_name": "Python 3",
   "language": "python",
   "name": "python3"
  },
  "language_info": {
   "codemirror_mode": {
    "name": "ipython",
    "version": 3
   },
   "file_extension": ".py",
   "mimetype": "text/x-python",
   "name": "python",
   "nbconvert_exporter": "python",
   "pygments_lexer": "ipython3",
   "version": "3.12.5"
  }
 },
 "nbformat": 4,
 "nbformat_minor": 2
}
