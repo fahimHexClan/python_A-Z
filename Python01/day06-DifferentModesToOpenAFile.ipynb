{
 "cells": [
  {
   "cell_type": "code",
   "execution_count": null,
   "metadata": {},
   "outputs": [
    {
     "name": "stdout",
     "output_type": "stream",
     "text": [
      "hello word\n",
      "i love programming\n"
     ]
    }
   ],
   "source": [
    "#modes to open a file\n",
    "file= open(\"my_file.txt\")\n",
    "file_content=file.read()\n",
    "print(file_content)"
   ]
  },
  {
   "cell_type": "code",
   "execution_count": 3,
   "metadata": {},
   "outputs": [
    {
     "name": "stdout",
     "output_type": "stream",
     "text": [
      "hello word\n",
      "\n"
     ]
    }
   ],
   "source": [
    "file= open(\"my_file.txt\")\n",
    "file_content=file.readline()\n",
    "print(file_content)"
   ]
  },
  {
   "cell_type": "code",
   "execution_count": 5,
   "metadata": {},
   "outputs": [
    {
     "name": "stdout",
     "output_type": "stream",
     "text": [
      "['hello word\\n', 'i love programming'] <class 'list'>\n"
     ]
    }
   ],
   "source": [
    "file= open(\"my_file.txt\")\n",
    "file_content=file.readlines()\n",
    "print(file_content , type(file_content))"
   ]
  },
  {
   "cell_type": "code",
   "execution_count": 22,
   "metadata": {},
   "outputs": [],
   "source": [
    "file= open(\"my_file.txt\",\"w\")\n",
    "file_content=file.write(\"hello, I love programming\\nbut I don't like getUp early in the morning\")\n",
    "# file_content2=file.read() \n",
    "# print(file_content2)\n",
    "file.close()"
   ]
  },
  {
   "cell_type": "code",
   "execution_count": 23,
   "metadata": {},
   "outputs": [
    {
     "name": "stdout",
     "output_type": "stream",
     "text": [
      "hello, I love programming\n",
      "but I don't like getUp early in the morning\n"
     ]
    }
   ],
   "source": [
    "with open(\"my_file.txt\",\"r\") as file:\n",
    "    content = file.read()\n",
    "    print(content)"
   ]
  },
  {
   "cell_type": "code",
   "execution_count": 21,
   "metadata": {},
   "outputs": [],
   "source": [
    "with open(\"mt_file2.txt\", \"w\") as file:\n",
    "    file.write(\"Hello World\\nThis is our pyton class.\")"
   ]
  },
  {
   "cell_type": "code",
   "execution_count": null,
   "metadata": {},
   "outputs": [],
   "source": [
    "# appended write without truncate old one\n",
    "with open(\"mt_file2.txt\", \"w\") as file:\n",
    "    my_text= [\"Hello World\\n\", \"This is our pyton class.\\n\",\"this is new.\"]\n",
    "    file.writelines(my_text)\n",
    "#append with using type \"a\" \n",
    "with open(\"mt_file2.txt\",\"a\") as file1:\n",
    "    file1.write(\"\\nWe are globle.\")"
   ]
  },
  {
   "cell_type": "code",
   "execution_count": 48,
   "metadata": {},
   "outputs": [
    {
     "name": "stdout",
     "output_type": "stream",
     "text": [
      "Enter 1 to add new Contact\n",
      "Enter 2 to view Contact\n",
      "Enter 3 to exit\n",
      "Jone williamson,0712233212,jone@example.com\n",
      "\n",
      "devid williamson,0712433312,dev@example.com\n",
      "\n",
      "smith williamson,0712233212,jone@example.com\n",
      "Enter 1 to add new Contact\n",
      "Enter 2 to view Contact\n",
      "Enter 3 to exit\n",
      "Jone williamson,0712233212,jone@example.com\n",
      "\n",
      "devid williamson,0712433312,dev@example.com\n",
      "\n",
      "smith williamson,0712233212,jone@example.com\n",
      "Enter 1 to add new Contact\n",
      "Enter 2 to view Contact\n",
      "Enter 3 to exit\n",
      "byee\n"
     ]
    }
   ],
   "source": [
    "# option = int(input(\"Enter 1 to add new Contact \\nEnter 2 to view Contact \\n Enter 3 to exit\"))\n",
    "\n",
    "def add_new_cotact():\n",
    "    name = input(\"Enter Name : \")\n",
    "    contact_num = input(\"Enter contact number : \")\n",
    "    email = input(\"Enter email : \")\n",
    "    temp_string = {name},\",\",{contact_num},\",\",{email},\"\\n\"\n",
    "    with open(\"contact.txt\",\"a\") as file:\n",
    "        file.write(temp_string)\n",
    "\n",
    "def view_contact():\n",
    "    with open(\"contact.txt\",\"r\") as file:\n",
    "        content = file.readlines()\n",
    "        for contact in content:\n",
    "            print(contact)\n",
    "\n",
    "\n",
    "\n",
    "while True:\n",
    "    print(\"Enter 1 to add new Contact\")\n",
    "    print(\"Enter 2 to view Contact\")\n",
    "    print(\"Enter 3 to exit\")\n",
    "    option = int(input(\"Your choes here..\"))\n",
    "\n",
    "    match option:\n",
    "        case 1:\n",
    "            add_new_cotact()\n",
    "        case 2:\n",
    "            view_contact()\n",
    "        case 3:\n",
    "            print(\"byee\")\n",
    "            break\n",
    "        case _ :\n",
    "            print(\"wrong Input , please try again !!!\")\n"
   ]
  }
 ],
 "metadata": {
  "kernelspec": {
   "display_name": "Python 3",
   "language": "python",
   "name": "python3"
  },
  "language_info": {
   "codemirror_mode": {
    "name": "ipython",
    "version": 3
   },
   "file_extension": ".py",
   "mimetype": "text/x-python",
   "name": "python",
   "nbconvert_exporter": "python",
   "pygments_lexer": "ipython3",
   "version": "3.12.5"
  }
 },
 "nbformat": 4,
 "nbformat_minor": 2
}
