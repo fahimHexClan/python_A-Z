{
 "cells": [
  {
   "cell_type": "code",
   "execution_count": 6,
   "metadata": {},
   "outputs": [
    {
     "name": "stdout",
     "output_type": "stream",
     "text": [
      "Odd number\n",
      "Positive Number\n"
     ]
    }
   ],
   "source": [
    "#conditional statement\n",
    "\n",
    "#if condition\n",
    "n = 13\n",
    "if n%2 == 0:\n",
    "    print(\"Even number\")\n",
    "else:\n",
    "    print(\"Odd number\")\n",
    "\n",
    "#elif\n",
    "a = 20\n",
    "if a>0:\n",
    "    print(\"Positive Number\")\n",
    "elif a<0:\n",
    "    print(\"Negetive Number\")\n",
    "else:\n",
    "    print(\"this is Zero\")"
   ]
  },
  {
   "cell_type": "code",
   "execution_count": null,
   "metadata": {},
   "outputs": [
    {
     "name": "stdout",
     "output_type": "stream",
     "text": [
      "B\n"
     ]
    }
   ],
   "source": [
    "#if condition exersice\n",
    "\n",
    "marks = int(input(\"Enter Mark: \"))\n",
    "if 85 <= marks <= 100:\n",
    "    print(\"A\")\n",
    "elif 75 <= marks:\n",
    "    print(\"B\")\n",
    "elif 65 <= marks:\n",
    "    print(\"C\")\n",
    "elif 55 <= marks:\n",
    "    print(\"D\")\n",
    "else:\n",
    "    print(\"F\")"
   ]
  }
 ],
 "metadata": {
  "kernelspec": {
   "display_name": "Python 3",
   "language": "python",
   "name": "python3"
  },
  "language_info": {
   "codemirror_mode": {
    "name": "ipython",
    "version": 3
   },
   "file_extension": ".py",
   "mimetype": "text/x-python",
   "name": "python",
   "nbconvert_exporter": "python",
   "pygments_lexer": "ipython3",
   "version": "3.12.5"
  }
 },
 "nbformat": 4,
 "nbformat_minor": 2
}
