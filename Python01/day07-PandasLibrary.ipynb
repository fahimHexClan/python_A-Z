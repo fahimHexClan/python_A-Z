{
 "cells": [
  {
   "cell_type": "code",
   "execution_count": 3,
   "metadata": {},
   "outputs": [
    {
     "name": "stdout",
     "output_type": "stream",
     "text": [
      "       Name  Age\n",
      "0  chathura   23\n",
      "1       Bob   12\n",
      "2     David   30\n",
      "<class 'pandas.core.frame.DataFrame'>\n",
      "Bob\n",
      "David\n",
      "Name    Bob\n",
      "Age      12\n",
      "Name: 1, dtype: object\n",
      "       Name  Age\n",
      "0  chathura   23\n",
      "1       Bob   12\n"
     ]
    }
   ],
   "source": [
    "#create dateFame with pandas\n",
    "import pandas as pd\n",
    "\n",
    "data = {\n",
    "    \"Name\":['chathura','Bob','David'],\n",
    "    \"Age\" : [23,12,30]\n",
    "}\n",
    "\n",
    "df = pd.DataFrame(data)\n",
    "print(df)\n",
    "print(type(df))\n",
    "\n",
    "# get selected data from df by location df.loc[rowIndex, column name]\n",
    "print(df.loc[1,\"Name\"])\n",
    "\n",
    "# get selected data from df by location df.iloc[rowIndex, column index]\n",
    "print(df.iloc[2,0])\n",
    "\n",
    "# get selected row data from df by location df.loc[rowIndex]\n",
    "print(df.loc[1])\n",
    "# get two rows data we can use this to get multiple rows\n",
    "print(df.loc[[0,1]])"
   ]
  },
  {
   "cell_type": "code",
   "execution_count": 4,
   "metadata": {},
   "outputs": [
    {
     "name": "stdout",
     "output_type": "stream",
     "text": [
      "day1    420\n",
      "day2    380\n",
      "day3    390\n",
      "Name: Calories, dtype: int64\n",
      "      Calories  Duration\n",
      "day1       420        50\n",
      "day2       380        40\n",
      "day3       390        45\n"
     ]
    }
   ],
   "source": [
    "#change row index in dataframe\n",
    "import pandas as pd\n",
    "\n",
    "data = {\n",
    "    \"Calories\" : [420,380,390],\n",
    "    \"Duration\" : [50,40,45]\n",
    "}\n",
    "\n",
    "df = pd.DataFrame(data,index=[\"day1\",\"day2\",\"day3\"])\n",
    "# print(df)\n",
    "#============================================row Access==========\n",
    "# print(df.loc[\"day1\"])\n",
    "# print(df.loc[[\"day1\",\"day2\"]])\n",
    "# print(df.loc[\"day1\",\"Calories\"])\n",
    "\n",
    "#============================================column Access==========\n",
    "print(df[\"Calories\"])\n",
    "print(df)\n"
   ]
  },
  {
   "cell_type": "code",
   "execution_count": 5,
   "metadata": {},
   "outputs": [
    {
     "name": "stdout",
     "output_type": "stream",
     "text": [
      "       Name  Age\n",
      "0  chathura   23\n",
      "1       Bob   12\n",
      "2     David   30\n",
      "(3, 2)\n",
      "[[1 3]\n",
      " [2 4]]\n"
     ]
    }
   ],
   "source": [
    "#attributs in panda dataframe\n",
    "import pandas as pd\n",
    "\n",
    "data = {\n",
    "    \"Name\":['chathura','Bob','David'],\n",
    "    \"Age\" : [23,12,30]\n",
    "}\n",
    "\n",
    "df = pd.DataFrame(data)\n",
    "print(df)\n",
    "#shape\n",
    "# print(df.shape)\n",
    "\n",
    "# column\n",
    "# print(df.columns)              # Index(['Name', 'Age'], dtype='object')\n",
    "# print(list(df.columns))         # ['Name', 'Age']\n",
    "\n",
    "#size\n",
    "# print(df.size)        #6\n",
    "\n",
    "#value\n",
    "df_1 = pd.DataFrame({'A': [1,2], 'B' : [3,4]})\n",
    "print(df_1.values)\n",
    "\n",
    "\n"
   ]
  },
  {
   "cell_type": "code",
   "execution_count": null,
   "metadata": {},
   "outputs": [
    {
     "name": "stdout",
     "output_type": "stream",
     "text": [
      "2\n",
      "mean is :  A    1.5\n",
      "B    3.5\n",
      "dtype: float64\n",
      "sum is :  A    3\n",
      "B    7\n",
      "dtype: int64\n",
      "              A         B\n",
      "count  2.000000  2.000000\n",
      "mean   1.500000  3.500000\n",
      "std    0.707107  0.707107\n",
      "min    1.000000  3.000000\n",
      "25%    1.250000  3.250000\n",
      "50%    1.500000  3.500000\n",
      "75%    1.750000  3.750000\n",
      "max    2.000000  4.000000\n",
      "    Name  Age  Score\n",
      "1    Bob   27     70\n",
      "3  David   32     88\n"
     ]
    }
   ],
   "source": [
    "#function in panda dataFarame\n",
    "import pandas as pd\n",
    "df_1 = pd.DataFrame({'A': [1,2], 'B' : [3,4]})\n",
    "#========len()=========\n",
    "print(len(df_1))\n",
    "\n",
    "#========mean()========\n",
    "print(\"mean is : \",df_1.mean())\n",
    "\n",
    "#=======sum()=====\n",
    "print(\"sum is : \",df_1.sum())\n",
    "\n",
    "#=====describe()=====\n",
    "print(df_1.describe())\n",
    "\n",
    "#-------------------------------------filtering data in dataFrames---------------------------------------------\n",
    "data1 = {\n",
    "    'Name' : ['Alice','Bob','Charlie','David'],\n",
    "    'Age' : [24,27,22,32],\n",
    "    'Score' : [85,70,90,88]\n",
    "}\n",
    "\n",
    "df = pd.DataFrame(data1)\n",
    "filterd_df = df[df['Age']>25]\n",
    "print(filterd_df)\n"
   ]
  },
  {
   "cell_type": "code",
   "execution_count": 53,
   "metadata": {},
   "outputs": [
    {
     "name": "stdout",
     "output_type": "stream",
     "text": [
      "   Order ID      Product    Category  Quintity  Price unit Region  \\\n",
      "0       101       laptop  electronic         2        1000  North   \n",
      "1       102  smart phone  electronic         5         800  South   \n",
      "2       103   desk chair   furniture        10         150   East   \n",
      "3       104      monitor  electronic         4         200   West   \n",
      "4       105   book shelf   furniture         2         300  North   \n",
      "\n",
      "   Total Revinue  \n",
      "0           2000  \n",
      "1           4000  \n",
      "2           1500  \n",
      "3            800  \n",
      "4            600  \n",
      "   Order ID      Product    Category  Quintity  Price unit Region  \\\n",
      "1       102  smart phone  electronic         5         800  South   \n",
      "\n",
      "   Total Revinue  \n",
      "1           4000  \n"
     ]
    }
   ],
   "source": [
    "import pandas as pd\n",
    "\n",
    "data = {\n",
    "    \"Order ID\" : [101,102,103,104,105],\n",
    "    \"Product\" : [\"laptop\",\"smart phone\",\"desk chair\",\"monitor\",\"book shelf\"],\n",
    "    \"Category\" : [\"electronic\",\"electronic\",\"furniture\",\"electronic\",\"furniture\"],\n",
    "    \"Quintity\" : [2,5,10,4,2],\n",
    "    \"Price unit\" : [1000,800,150,200,300],\n",
    "    \"Region\" : [\"North\",\"South\",\"East\",\"West\",\"North\"]\n",
    "}\n",
    "\n",
    "df = pd.DataFrame(data)\n",
    "# print(df)\n",
    "\n",
    "df[\"Total Revinue\"] =(df[\"Quintity\"]) * (df[\"Price unit\"])\n",
    "print(df)\n",
    "\n",
    "best_revenue_pro = df[(df['Total Revinue'].max()) == (df['Total Revinue'])]\n",
    "print(best_revenue_pro)\n",
    "\n"
   ]
  },
  {
   "cell_type": "code",
   "execution_count": 55,
   "metadata": {},
   "outputs": [
    {
     "name": "stdout",
     "output_type": "stream",
     "text": [
      "   A  B\n",
      "0  1  3\n",
      "1  2  4\n",
      "   A  B\n",
      "0  1  3\n",
      "1  2  4\n",
      "2  5  6\n"
     ]
    }
   ],
   "source": [
    "# Add new row to dataFarame\n",
    "import pandas as pd\n",
    "\n",
    "df = pd.DataFrame({'A': [1,2], 'B' : [3,4]})\n",
    "print(df)\n",
    "df.loc[len(df)] = [5,6]\n",
    "\n",
    "print(df)"
   ]
  }
 ],
 "metadata": {
  "kernelspec": {
   "display_name": "Python 3",
   "language": "python",
   "name": "python3"
  },
  "language_info": {
   "codemirror_mode": {
    "name": "ipython",
    "version": 3
   },
   "file_extension": ".py",
   "mimetype": "text/x-python",
   "name": "python",
   "nbconvert_exporter": "python",
   "pygments_lexer": "ipython3",
   "version": "3.12.5"
  }
 },
 "nbformat": 4,
 "nbformat_minor": 2
}
