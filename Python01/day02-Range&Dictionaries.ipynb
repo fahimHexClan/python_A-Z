{
 "cells": [
  {
   "cell_type": "code",
   "execution_count": 3,
   "metadata": {},
   "outputs": [
    {
     "name": "stdout",
     "output_type": "stream",
     "text": [
      "[2, 5, 8, 11, 14] <class 'range'>\n"
     ]
    }
   ],
   "source": [
    "#Define Range\n",
    "R_1= range(2,16,3)\n",
    "print(list(R_1),type(R_1))"
   ]
  },
  {
   "cell_type": "code",
   "execution_count": 8,
   "metadata": {},
   "outputs": [
    {
     "name": "stdout",
     "output_type": "stream",
     "text": [
      "{'name': 'Suger', 'Weight': '1Kg', 'Price': 120.23}\n",
      "3\n",
      "120.23\n",
      "-----------------\n",
      "chathura\n"
     ]
    }
   ],
   "source": [
    "#Define Dictionaries\n",
    "dis_1 = {\n",
    "    \"name\":\"Suger\",\n",
    "    \"Weight\":\"1Kg\",\n",
    "    \"Price\":120.23,\n",
    "}\n",
    "print(dis_1)\n",
    "print(len(dis_1))\n",
    "#key eka use karala value eka ganna puluwan\n",
    "print(dis_1[\"Price\"])\n",
    "\n",
    "dis_2 = {\n",
    "    \"name\":\"chathura\",\n",
    "    \"age\":23,\n",
    "    \"is_student\":True,\n",
    "    \"gradas\":[1,2,3,4]\n",
    "}\n",
    "print(\"-----------------\")\n",
    "print(dis_2[\"name\"])\n"
   ]
  },
  {
   "cell_type": "code",
   "execution_count": 3,
   "metadata": {},
   "outputs": [
    {
     "name": "stdout",
     "output_type": "stream",
     "text": [
      "{'name': 'Suger', 'Weight': '1Kg', 'Price': 200.5}\n",
      "{'name': 'Suger', 'Weight': '2kg', 'Price': 200.5}\n",
      "{'name': 'Suger', 'Weight': '2kg', 'Price': 200.5, 'Color': 'white'}\n"
     ]
    }
   ],
   "source": [
    "#update Dictionaries\n",
    "dis_1 = {\n",
    "    \"name\":\"Suger\",\n",
    "    \"Weight\":\"1Kg\",\n",
    "    \"Price\":120.23,\n",
    "}\n",
    "#without method\n",
    "dis_1[\"Price\"] = 200.50\n",
    "print(dis_1)\n",
    "#with method\n",
    "dis_1.update({\"Weight\":\"2kg\"})\n",
    "print(dis_1)\n",
    "\n",
    "#Add new value\n",
    "dis_1[\"Color\"] = \"white\"\n",
    "print(dis_1)"
   ]
  },
  {
   "cell_type": "code",
   "execution_count": 12,
   "metadata": {},
   "outputs": [
    {
     "name": "stdout",
     "output_type": "stream",
     "text": [
      "{'name': 'Suger', 'Price': 120.23}\n",
      "{'name': 'Suger'}\n",
      "{'name': 'Suger', 'Price': 120.23}\n",
      "{}\n"
     ]
    }
   ],
   "source": [
    "#remove item Dictionaries\n",
    "dis_1 = {\n",
    "    \"name\":\"Suger\",\n",
    "    \"Weight\":\"1Kg\",\n",
    "    \"Price\":120.23,\n",
    "}\n",
    "dis_1.pop(\"Weight\")\n",
    "print(dis_1)\n",
    "\n",
    "#to remove last item of Dictionaries\n",
    "dis_1.popitem()\n",
    "print(dis_1)\n",
    "\n",
    "#delete by del\n",
    "dis_1 = {\n",
    "    \"name\":\"Suger\",\n",
    "    \"Weight\":\"1Kg\",\n",
    "    \"Price\":120.23,\n",
    "}\n",
    "del dis_1[\"Weight\"]\n",
    "print(dis_1)\n",
    "\n",
    "# distroy\n",
    "# del dis_1\n",
    "# print(dis_1)\n",
    "\n",
    "#clear\n",
    "dis_1 = {\n",
    "    \"name\":\"Suger\",\n",
    "    \"Weight\":\"1Kg\",\n",
    "    \"Price\":120.23,\n",
    "}\n",
    "dis_1.clear()\n",
    "print(dis_1)\n"
   ]
  },
  {
   "cell_type": "code",
   "execution_count": null,
   "metadata": {},
   "outputs": [
    {
     "name": "stdout",
     "output_type": "stream",
     "text": [
      "{'name': 'Suger', 'Weight': '1Kg'}\n",
      "{'name': 'Suger', 'Weight': '1Kg', 'Price': 120.23}\n",
      "{'name': 'Suger', 'Weight': '1Kg'}\n",
      "{'name': 'Suger', 'Weight': '1Kg', 'Price': 120.23}\n"
     ]
    }
   ],
   "source": [
    "#copy method 1\n",
    "dis_1 = {\n",
    "    \"name\":\"Suger\",\n",
    "    \"Weight\":\"1Kg\",\n",
    "    \"Price\":120.23,\n",
    "}\n",
    "dis_2 = dis_1.copy()\n",
    "dis_1.popitem()\n",
    "\n",
    "print(dis_1)\n",
    "print(dis_2)\n",
    "\n",
    "#copy method 2 using constructer\n",
    "dis_1 = {\n",
    "    \"name\":\"Suger\",\n",
    "    \"Weight\":\"1Kg\",\n",
    "    \"Price\":120.23,\n",
    "}\n",
    "dis_2 = dict(dis_1)\n",
    "dis_1.popitem()\n",
    "\n",
    "print(dis_1)\n",
    "print(dis_2)"
   ]
  },
  {
   "cell_type": "code",
   "execution_count": 19,
   "metadata": {},
   "outputs": [
    {
     "name": "stdout",
     "output_type": "stream",
     "text": [
      "dict_keys(['name', 'Weight', 'Price'])\n"
     ]
    }
   ],
   "source": [
    "#get All keys\n",
    "dis_1 = {\n",
    "    \"name\":\"Suger\",\n",
    "    \"Weight\":\"1Kg\",\n",
    "    \"Price\":120.23,\n",
    "}\n",
    "print(dis_1.keys())"
   ]
  }
 ],
 "metadata": {
  "kernelspec": {
   "display_name": "Python 3",
   "language": "python",
   "name": "python3"
  },
  "language_info": {
   "codemirror_mode": {
    "name": "ipython",
    "version": 3
   },
   "file_extension": ".py",
   "mimetype": "text/x-python",
   "name": "python",
   "nbconvert_exporter": "python",
   "pygments_lexer": "ipython3",
   "version": "3.12.5"
  }
 },
 "nbformat": 4,
 "nbformat_minor": 2
}
