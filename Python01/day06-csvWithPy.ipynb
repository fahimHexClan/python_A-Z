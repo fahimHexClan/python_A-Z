{
 "cells": [
  {
   "cell_type": "code",
   "execution_count": null,
   "metadata": {},
   "outputs": [],
   "source": [
    "#csv file read\n",
    "import csv\n",
    "csv_file_path = \"customers-100.csv\"\n",
    "with open(csv_file_path,'r',newline=\"\") as csv_file :\n",
    "    csv_reader = csv.reader(csv_file)\n",
    "    # print(csv_reader,type(csv_reader))\n",
    "    for row in csv_reader:\n",
    "        print(row)\n",
    "    "
   ]
  },
  {
   "cell_type": "code",
   "execution_count": null,
   "metadata": {},
   "outputs": [
    {
     "name": "stdout",
     "output_type": "stream",
     "text": [
      "{'Name': 'chathura', 'Age': '22', 'City': 'mathugama'}\n",
      "{'Name': 'jon', 'Age': '32', 'City': 'chikago'}\n",
      "{'Name': 'ram', 'Age': '42', 'City': 'chennai'}\n"
     ]
    }
   ],
   "source": [
    "#csv file write\n",
    "import csv\n",
    "\n",
    "csv_file_path = \"my_file.csv\"\n",
    "field_names = [\"Name\",\"Age\",\"City\"]\n",
    "data = [\n",
    "    {\"Name\":\"chathura\",\"Age\":22,\"City\":\"mathugama\"},\n",
    "    {\"Name\":\"jon\",\"Age\":32,\"City\":\"chikago\"},\n",
    "    {\"Name\":\"ram\",\"Age\":42,\"City\":\"chennai\"}\n",
    "]\n",
    "\n",
    "with open(csv_file_path,'w', newline='') as csv_file:\n",
    "    csv_writer = csv.DictWriter(csv_file, fieldnames=field_names)\n",
    "    csv_writer.writeheader()\n",
    "    csv_writer.writerows(data)\n",
    "\n",
    "with open(csv_file_path,'r',newline=\"\") as csv_file :\n",
    "    # csv_reader = csv.reader(csv_file)                 #print as list\n",
    "    csv_reader = csv.DictReader(csv_file)                #print as dict\n",
    "    for row in csv_reader:\n",
    "        print(row)\n",
    "        "
   ]
  },
  {
   "cell_type": "code",
   "execution_count": 64,
   "metadata": {},
   "outputs": [
    {
     "name": "stdout",
     "output_type": "stream",
     "text": [
      "['EmployId', 'Name', 'Dipartment', 'Salary']\n",
      "['1', 'John', 'It', '60000']\n",
      "['2', 'Jone', 'HR', '55000']\n",
      "['3', 'Browh', 'Finance', '70000']\n",
      "no\n"
     ]
    }
   ],
   "source": [
    "import csv\n",
    "\n",
    "csv_file_path = \"employ.csv\"\n",
    "with open(csv_file_path,'r',newline=\"\") as csv_file :\n",
    "    csv_reader = csv.reader(csv_file)\n",
    "    for row in csv_reader:\n",
    "        print(row )\n",
    "high_emloy_dict=[]\n",
    "with open(csv_file_path,'r',newline=\"\") as csv_file :\n",
    "    csv_reader = csv.DictReader(csv_file)\n",
    "    for row in csv_reader:\n",
    "        if int(row[\"Salary\"])>57000:\n",
    "             high_emloy_dict.append(row)        \n",
    "        else:\n",
    "            print(\"no\")\n",
    "field_names= [\"EmployId\",\"Name\",\"Dipartment\",\"Salary\"]\n",
    "with open(\"high_salary_employee.csv\",'w', newline='') as csv_file:\n",
    "    csv_writer = csv.DictWriter(csv_file, fieldnames=field_names)\n",
    "    csv_writer.writeheader()\n",
    "    csv_writer.writerows(high_emloy_dict)\n"
   ]
  }
 ],
 "metadata": {
  "kernelspec": {
   "display_name": "Python 3",
   "language": "python",
   "name": "python3"
  },
  "language_info": {
   "codemirror_mode": {
    "name": "ipython",
    "version": 3
   },
   "file_extension": ".py",
   "mimetype": "text/x-python",
   "name": "python",
   "nbconvert_exporter": "python",
   "pygments_lexer": "ipython3",
   "version": "3.12.5"
  }
 },
 "nbformat": 4,
 "nbformat_minor": 2
}
