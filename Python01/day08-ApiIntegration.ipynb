{
 "cells": [
  {
   "cell_type": "code",
   "execution_count": 16,
   "metadata": {},
   "outputs": [
    {
     "name": "stdout",
     "output_type": "stream",
     "text": [
      "{'time': '2025-01-07T08:30', 'interval': 900, 'temperature_2m': 1.0, 'wind_speed_10m': 10.0}\n"
     ]
    }
   ],
   "source": [
    "import requests\n",
    "import json\n",
    "\n",
    "base_url = 'https://api.open-meteo.com/v1/forecast'\n",
    "\n",
    "params = {\n",
    "    'latitude' : 51.5074,\n",
    "    'longitude': -0.1278,\n",
    "    'current': 'temperature_2m,wind_speed_10m'\n",
    "}\n",
    "respons = requests.get(base_url,params=params)\n",
    "if respons.status_code == 200:\n",
    "    result =respons.json()\n",
    "    print(result['current'])\n",
    "    \n",
    "else:\n",
    "    print('Error!!',respons.status_code)"
   ]
  },
  {
   "cell_type": "code",
   "execution_count": 23,
   "metadata": {},
   "outputs": [
    {
     "data": {
      "text/plain": [
       "{'time': '2025-01-07T09:00',\n",
       " 'interval': 900,\n",
       " 'temperature_2m': 32.0,\n",
       " 'wind_speed_10m': 9.1}"
      ]
     },
     "execution_count": 23,
     "metadata": {},
     "output_type": "execute_result"
    }
   ],
   "source": [
    "#using function\n",
    "import requests\n",
    "import json\n",
    "\n",
    "def fetch_wether(latitude,longitude,current_info):\n",
    "    base_url = 'https://api.open-meteo.com/v1/forecast'\n",
    "    params = {\n",
    "        'latitude' : latitude,\n",
    "        'longitude': longitude,\n",
    "        'current': current_info\n",
    "    }\n",
    "    respons = requests.get(base_url,params=params)\n",
    "    if respons.status_code == 200:\n",
    "        return respons.json()\n",
    "    else:\n",
    "        print('Error!!',respons.status_code)\n",
    "        return None\n",
    "\n",
    "result = fetch_wether(6.71123,79.90982,'temperature_2m,wind_speed_10m')\n",
    "result['current']"
   ]
  }
 ],
 "metadata": {
  "kernelspec": {
   "display_name": "Python 3",
   "language": "python",
   "name": "python3"
  },
  "language_info": {
   "codemirror_mode": {
    "name": "ipython",
    "version": 3
   },
   "file_extension": ".py",
   "mimetype": "text/x-python",
   "name": "python",
   "nbconvert_exporter": "python",
   "pygments_lexer": "ipython3",
   "version": "3.12.5"
  }
 },
 "nbformat": 4,
 "nbformat_minor": 2
}
