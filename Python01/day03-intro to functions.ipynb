{
 "cells": [
  {
   "cell_type": "code",
   "execution_count": 5,
   "metadata": {},
   "outputs": [
    {
     "name": "stdout",
     "output_type": "stream",
     "text": [
      "10\n",
      "13\n",
      "8\n",
      "-------tuple unpacking------\n",
      "10 11 1\n"
     ]
    }
   ],
   "source": [
    "# unpacking\n",
    "# list tuple unpacking \n",
    "\n",
    "\n",
    "# to list\n",
    "my_list = [10,13,8]\n",
    "x,y,z = my_list\n",
    "print(x)\n",
    "print(y)\n",
    "print(z)\n",
    "print(\"-------tuple unpacking------\")\n",
    "# to tuple\n",
    "my_tuple = (10,11,1)\n",
    "a,b,c = my_tuple\n",
    "print(a,b,c)\n",
    "\n",
    "\n"
   ]
  },
  {
   "cell_type": "code",
   "execution_count": null,
   "metadata": {},
   "outputs": [
    {
     "name": "stdout",
     "output_type": "stream",
     "text": [
      "name chathura\n",
      "age 25\n",
      "keys :  name\n",
      "keys :  age\n"
     ]
    }
   ],
   "source": [
    "# dictinory unpacking\n",
    "\n",
    "# method 1 not work\n",
    "# my_dict={\"name\":\"chathura\",\"age\":25}\n",
    "# {name,age}=my_dict\n",
    "# print(age)\n",
    "\n",
    "# method 2\n",
    "my_dict={\"name\":\"chathura\",\"age\":25}\n",
    "for key,value in my_dict.items():\n",
    "    print(key,value)\n",
    "\n",
    "# only key\n",
    "for key in my_dict.keys():\n",
    "    print(\"keys : \",key)\n",
    "\n",
    "# only value\n",
    "for value in my_dict.values():\n",
    "    print(\"keys : \",value)"
   ]
  },
  {
   "cell_type": "code",
   "execution_count": 12,
   "metadata": {},
   "outputs": [
    {
     "name": "stdout",
     "output_type": "stream",
     "text": [
      "{'a': 1, 'b': 2}\n"
     ]
    }
   ],
   "source": [
    "# murch dict\n",
    "dict_1 = {\"a\":1}\n",
    "dict_2 = {\"b\":2}\n",
    "\n",
    "dict_3 = dict_1 | dict_2\n",
    "print(dict_3)"
   ]
  },
  {
   "cell_type": "code",
   "execution_count": 19,
   "metadata": {},
   "outputs": [
    {
     "name": "stdout",
     "output_type": "stream",
     "text": [
      "not found\n"
     ]
    }
   ],
   "source": [
    "# dict get\n",
    "dict_1={\"a\":1,\"b\":2,\"c\":3,\"d\":4}\n",
    "print(dict_1.get(\"e\",\"not found\"))"
   ]
  }
 ],
 "metadata": {
  "kernelspec": {
   "display_name": "Python 3",
   "language": "python",
   "name": "python3"
  },
  "language_info": {
   "codemirror_mode": {
    "name": "ipython",
    "version": 3
   },
   "file_extension": ".py",
   "mimetype": "text/x-python",
   "name": "python",
   "nbconvert_exporter": "python",
   "pygments_lexer": "ipython3",
   "version": "3.12.5"
  }
 },
 "nbformat": 4,
 "nbformat_minor": 2
}
