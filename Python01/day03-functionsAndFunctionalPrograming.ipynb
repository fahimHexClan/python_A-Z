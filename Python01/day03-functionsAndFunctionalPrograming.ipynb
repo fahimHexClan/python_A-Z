{
 "cells": [
  {
   "cell_type": "code",
   "execution_count": null,
   "metadata": {},
   "outputs": [
    {
     "name": "stdout",
     "output_type": "stream",
     "text": [
      "5\n"
     ]
    }
   ],
   "source": [
    "# function declaration\n",
    " \n",
    "# def calculate_volume(parameters):\n",
    "#     print(parameters)\n",
    "\n",
    "\n",
    "def calculate_volume(num1,num2):\n",
    "    return num1+num2\n",
    "\n",
    "result=calculate_volume(2,3)\n",
    "print(result)"
   ]
  },
  {
   "cell_type": "code",
   "execution_count": 5,
   "metadata": {},
   "outputs": [
    {
     "name": "stdout",
     "output_type": "stream",
     "text": [
      "153.86\n"
     ]
    }
   ],
   "source": [
    "PI = 3.14\n",
    "def calculate_area(r):\n",
    "    return PI*(r**2)\n",
    "print(calculate_area(7))"
   ]
  },
  {
   "cell_type": "code",
   "execution_count": 11,
   "metadata": {},
   "outputs": [
    {
     "name": "stdout",
     "output_type": "stream",
     "text": [
      "[8, 12, 5, 9]\n",
      "[8, 5]\n"
     ]
    }
   ],
   "source": [
    "my_list = [4,8,12,5,9,7]\n",
    "\n",
    "def find_mean(l1):\n",
    "    total=0\n",
    "    for num in l1:\n",
    "        total+=num\n",
    "    return total/len(l1)\n",
    "\n",
    "# print(find_mean(my_list))\n",
    "print(my_list[1 : 5 : 1])\n",
    "print(my_list[1 : 5 : 2])"
   ]
  },
  {
   "cell_type": "code",
   "execution_count": 1,
   "metadata": {},
   "outputs": [
    {
     "name": "stdout",
     "output_type": "stream",
     "text": [
      "Hello, chathura !\n",
      "Hi, chathura !\n"
     ]
    }
   ],
   "source": [
    "# default argument\n",
    "def greet(name, greeting=\"Hello\"):\n",
    "    return f\"{greeting}, {name} !\"\n",
    "\n",
    "print(greet(\"chathura\"))\n",
    "print(greet(\"chathura\", \"Hi\"))"
   ]
  },
  {
   "cell_type": "code",
   "execution_count": 2,
   "metadata": {},
   "outputs": [
    {
     "data": {
      "text/plain": [
       "30"
      ]
     },
     "execution_count": 2,
     "metadata": {},
     "output_type": "execute_result"
    }
   ],
   "source": [
    "# positional argument\n",
    "def add_number(a,b):\n",
    "    return a+b\n",
    "\n",
    "add_number(10,20)"
   ]
  },
  {
   "cell_type": "code",
   "execution_count": 3,
   "metadata": {},
   "outputs": [
    {
     "data": {
      "text/plain": [
       "3"
      ]
     },
     "execution_count": 3,
     "metadata": {},
     "output_type": "execute_result"
    }
   ],
   "source": [
    "# keyword arguments\n",
    "def add_number(a,b):\n",
    "    return a+b\n",
    "\n",
    "add_number(b=2,a=1)"
   ]
  }
 ],
 "metadata": {
  "kernelspec": {
   "display_name": "Python 3",
   "language": "python",
   "name": "python3"
  },
  "language_info": {
   "codemirror_mode": {
    "name": "ipython",
    "version": 3
   },
   "file_extension": ".py",
   "mimetype": "text/x-python",
   "name": "python",
   "nbconvert_exporter": "python",
   "pygments_lexer": "ipython3",
   "version": "3.12.5"
  }
 },
 "nbformat": 4,
 "nbformat_minor": 2
}
