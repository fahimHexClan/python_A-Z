{
 "cells": [
  {
   "cell_type": "code",
   "execution_count": 1,
   "metadata": {},
   "outputs": [
    {
     "name": "stdout",
     "output_type": "stream",
     "text": [
      "12\n"
     ]
    }
   ],
   "source": [
    "#nexted function\n",
    "def outer(x):\n",
    "    def inner(y):\n",
    "        return x+y\n",
    "    return inner\n",
    "temp_value = outer(5)\n",
    "print(temp_value(7))"
   ]
  },
  {
   "cell_type": "code",
   "execution_count": 2,
   "metadata": {},
   "outputs": [
    {
     "name": "stdout",
     "output_type": "stream",
     "text": [
      "5\n"
     ]
    }
   ],
   "source": [
    "#pass function as arguments\n",
    "def add(x,y):\n",
    "    return x+y\n",
    "\n",
    "def calculat(func,x,y):\n",
    "    return func(x,y)\n",
    "\n",
    "result = calculat(add,3,2)\n",
    "print(result)"
   ]
  },
  {
   "cell_type": "code",
   "execution_count": null,
   "metadata": {},
   "outputs": [
    {
     "name": "stdout",
     "output_type": "stream",
     "text": [
      "<function make_pretty.<locals>.inner at 0x000002533D44E840>\n",
      "I got decorded\n",
      "I am ordinory\n"
     ]
    }
   ],
   "source": [
    "#decorator manualy\n",
    "def make_pretty(func):\n",
    "    def inner():\n",
    "        print(\"I got decorded\")\n",
    "        func()\n",
    "    return inner\n",
    "\n",
    "def ordinary():\n",
    "    print(\"I am ordinory\")\n",
    "\n",
    "get_decorated = make_pretty(ordinary)\n",
    "print(get_decorated)\n",
    "get_decorated()"
   ]
  },
  {
   "cell_type": "code",
   "execution_count": null,
   "metadata": {},
   "outputs": [
    {
     "name": "stdout",
     "output_type": "stream",
     "text": [
      "I got decorded\n",
      "I am ordinory\n"
     ]
    }
   ],
   "source": [
    "#decorator with anotaion\n",
    "def make_pretty(func):\n",
    "    def inner():\n",
    "        print(\"I got decorded\")\n",
    "        func()\n",
    "    return inner\n",
    "@make_pretty\n",
    "def ordinary():\n",
    "    print(\"I am ordinory\")\n",
    "\n",
    "\n",
    "ordinary()"
   ]
  },
  {
   "cell_type": "code",
   "execution_count": null,
   "metadata": {},
   "outputs": [
    {
     "name": "stdout",
     "output_type": "stream",
     "text": [
      "1.4142135623730951\n"
     ]
    }
   ],
   "source": [
    "#example \n",
    "import math\n",
    "def check_positive(func):\n",
    "    def inner(num):\n",
    "        if num>0:\n",
    "            root=func(num)\n",
    "            print(root)\n",
    "        else:\n",
    "            print(\"please enter positive number\")\n",
    "    return inner\n",
    "\n",
    "@check_positive\n",
    "def calculate_squere_root(num):\n",
    "    return math.sqrt(num)\n",
    "\n",
    "calculate_squere_root(2)\n"
   ]
  }
 ],
 "metadata": {
  "kernelspec": {
   "display_name": "Python 3",
   "language": "python",
   "name": "python3"
  },
  "language_info": {
   "codemirror_mode": {
    "name": "ipython",
    "version": 3
   },
   "file_extension": ".py",
   "mimetype": "text/x-python",
   "name": "python",
   "nbconvert_exporter": "python",
   "pygments_lexer": "ipython3",
   "version": "3.12.5"
  }
 },
 "nbformat": 4,
 "nbformat_minor": 2
}
