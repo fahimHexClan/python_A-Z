{
 "cells": [
  {
   "cell_type": "code",
   "execution_count": null,
   "metadata": {},
   "outputs": [
    {
     "name": "stdout",
     "output_type": "stream",
     "text": [
      "ok\n"
     ]
    }
   ],
   "source": [
    "#exerssice\n",
    "x=int(input(\"Enter Number: \"))\n",
    "# result = \"ok\" if x%3==0 and x%2==0 else \"Not ok\"\n",
    "result = \"ok\" if x%6==0 else \"Not Ok\"\n",
    "\n",
    "print(result)"
   ]
  },
  {
   "cell_type": "code",
   "execution_count": null,
   "metadata": {},
   "outputs": [
    {
     "name": "stdout",
     "output_type": "stream",
     "text": [
      "404 Not found\n"
     ]
    }
   ],
   "source": [
    "#match case(switch case)\n",
    "response_code=404\n",
    "match response_code:\n",
    "    case 200:\n",
    "        print(\"ok\")\n",
    "    case 201:\n",
    "        print(\"Created\")\n",
    "    case 404:\n",
    "        print(\"404 Not found\")\n",
    "    case 500:\n",
    "        print(\"Internal server error\")\n",
    "    case _:\n",
    "        print(\"Something else\")\n"
   ]
  },
  {
   "cell_type": "code",
   "execution_count": null,
   "metadata": {},
   "outputs": [
    {
     "name": "stdout",
     "output_type": "stream",
     "text": [
      "Zero\n"
     ]
    }
   ],
   "source": [
    "#match case exersices 01\n",
    "x=int(input(\"Enter Number: \"))\n",
    "match x:\n",
    "    case 0:\n",
    "        print(\"Zero\")\n",
    "    case -1:\n",
    "        print(\"Negertive one\") \n",
    "    case 1:\n",
    "        print(\"Positive one\") \n",
    "    case _ if x>1:\n",
    "        print(\"Positive Number grater than one\")  \n",
    "    case _ if x<-1:\n",
    "        print(\"Negartive Number grater than one\") \n",
    "    case _:\n",
    "        print(\"Unmatch case\")\n"
   ]
  },
  {
   "cell_type": "code",
   "execution_count": 22,
   "metadata": {},
   "outputs": [
    {
     "name": "stdout",
     "output_type": "stream",
     "text": [
      "The list dose not contain 2 or 3 numbers!\n"
     ]
    }
   ],
   "source": [
    "#match case exersices 02\n",
    "number = [2,4,8,6]\n",
    "match number:\n",
    "    case [x,y]:\n",
    "        print(x*y)\n",
    "    case [x,y,z]:\n",
    "        print(x*y*z)\n",
    "    case _:\n",
    "        print(\"The list dose not contain 2 or 3 numbers!\")"
   ]
  },
  {
   "cell_type": "code",
   "execution_count": null,
   "metadata": {},
   "outputs": [
    {
     "name": "stdout",
     "output_type": "stream",
     "text": [
      "This is something else\n"
     ]
    }
   ],
   "source": [
    "#match case exersices 03\n",
    "x = [1,3,3]\n",
    "match x:\n",
    "    case []:\n",
    "        print(\"Emty list\")\n",
    "    case [x]:\n",
    "        print(\"list has single Element\")\n",
    "    case [x,y]:\n",
    "        print(\"list has two elements\")\n",
    "    case _:\n",
    "        print(\"This is something else\")"
   ]
  }
 ],
 "metadata": {
  "kernelspec": {
   "display_name": "Python 3",
   "language": "python",
   "name": "python3"
  },
  "language_info": {
   "codemirror_mode": {
    "name": "ipython",
    "version": 3
   },
   "file_extension": ".py",
   "mimetype": "text/x-python",
   "name": "python",
   "nbconvert_exporter": "python",
   "pygments_lexer": "ipython3",
   "version": "3.12.5"
  }
 },
 "nbformat": 4,
 "nbformat_minor": 2
}
