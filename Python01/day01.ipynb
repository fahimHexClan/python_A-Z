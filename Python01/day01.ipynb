{
 "cells": [
  {
   "cell_type": "code",
   "execution_count": null,
   "metadata": {},
   "outputs": [
    {
     "name": "stdout",
     "output_type": "stream",
     "text": [
      "200\n",
      "<class 'int'>\n",
      "The type of variable having value 200  is  <class 'int'>\n",
      "The type of variable having value 12.5678  is  <class 'float'>\n",
      "the type of variable having value (100+5j)  is  <class 'complex'>\n"
     ]
    }
   ],
   "source": [
    "a=200\n",
    "print(a)\n",
    "print(type(a))\n",
    "print(\"The type of variable having value\",a,\" is \",type(a))\n",
    "\n",
    "\n"
   ]
  },
  {
   "cell_type": "code",
   "execution_count": null,
   "metadata": {},
   "outputs": [],
   "source": [
    "b=12.5678\n",
    "print(\"The type of variable having value\",b,\" is \",type(b))"
   ]
  },
  {
   "cell_type": "code",
   "execution_count": null,
   "metadata": {},
   "outputs": [
    {
     "name": "stdout",
     "output_type": "stream",
     "text": [
      "the type of variable having value 2500000000000.0  is  <class 'float'>\n"
     ]
    }
   ],
   "source": [
    "num_1=2.5e4\n",
    "print(\"the type of variable having value\",num_1,\" is \",type(num_1))"
   ]
  },
  {
   "cell_type": "code",
   "execution_count": null,
   "metadata": {},
   "outputs": [],
   "source": [
    "c=100+5j\n",
    "print(\"the type of variable having value\",c,\" is \",type(c))"
   ]
  },
  {
   "cell_type": "code",
   "execution_count": 14,
   "metadata": {},
   "outputs": [
    {
     "name": "stdout",
     "output_type": "stream",
     "text": [
      "<class 'float'>\n"
     ]
    }
   ],
   "source": [
    "num_1=2\n",
    "num_2=12.5\n",
    "a=float(num_1)\n",
    "print(type(a))"
   ]
  },
  {
   "cell_type": "code",
   "execution_count": 16,
   "metadata": {},
   "outputs": [
    {
     "name": "stdout",
     "output_type": "stream",
     "text": [
      "12 <class 'int'>\n"
     ]
    }
   ],
   "source": [
    "num_1=2\n",
    "num_2=12.5\n",
    "a=int(num_2)\n",
    "print(a,type(a))"
   ]
  },
  {
   "cell_type": "code",
   "execution_count": 19,
   "metadata": {},
   "outputs": [
    {
     "name": "stdout",
     "output_type": "stream",
     "text": [
      "[1, 2, 34, 45] <class 'list'>\n",
      "34\n",
      "89\n"
     ]
    }
   ],
   "source": [
    "my_list=[1,2,34,45]\n",
    "print(my_list,type(my_list))\n",
    "print(my_list[2])\n",
    "my_list[2]=89\n",
    "print(my_list[2])"
   ]
  },
  {
   "cell_type": "code",
   "execution_count": 24,
   "metadata": {},
   "outputs": [
    {
     "name": "stdout",
     "output_type": "stream",
     "text": [
      "[1, 2, 34, 45, 'heloo', True] <class 'list'>\n",
      "34\n",
      "89\n"
     ]
    }
   ],
   "source": [
    "my_list=[1,2,34,45,\"heloo\",True]\n",
    "print(my_list,type(my_list))\n",
    "print(my_list[2])\n",
    "my_list[2]=89\n",
    "print(my_list[2])"
   ]
  },
  {
   "cell_type": "code",
   "execution_count": 25,
   "metadata": {},
   "outputs": [
    {
     "name": "stdout",
     "output_type": "stream",
     "text": [
      "6\n"
     ]
    }
   ],
   "source": [
    "my_list=[1,2,34,45,\"heloo\",True]\n",
    "\n",
    "\n",
    "print(len(my_list))"
   ]
  },
  {
   "cell_type": "code",
   "execution_count": null,
   "metadata": {},
   "outputs": [
    {
     "name": "stdout",
     "output_type": "stream",
     "text": [
      "True\n"
     ]
    }
   ],
   "source": [
    "my_list=[1,2,34,45,\"heloo\",True]\n",
    "\n",
    "print(my_list[-1])\n",
    "# this is negetive indexing system"
   ]
  },
  {
   "cell_type": "code",
   "execution_count": 1,
   "metadata": {},
   "outputs": [
    {
     "name": "stdout",
     "output_type": "stream",
     "text": [
      "[2, 34, 45]\n"
     ]
    }
   ],
   "source": [
    "my_list=[1,2,34,45,\"heloo\",True]\n",
    "\n",
    "print(my_list[1:4])"
   ]
  },
  {
   "cell_type": "code",
   "execution_count": null,
   "metadata": {},
   "outputs": [
    {
     "name": "stdout",
     "output_type": "stream",
     "text": [
      "[1, 2, 34]\n"
     ]
    }
   ],
   "source": [
    "my_list=[1,2,34,45,\"heloo\",True]\n",
    "\n",
    "print(my_list[:3])"
   ]
  },
  {
   "cell_type": "code",
   "execution_count": null,
   "metadata": {},
   "outputs": [
    {
     "name": "stdout",
     "output_type": "stream",
     "text": [
      "[1, 2, 'dog', 12.5, 45, 'heloo', True]\n"
     ]
    }
   ],
   "source": [
    "my_list=[1,2,34,45,\"heloo\",True]\n",
    "my_list[2:3]=[\"dog\",12.5]\n",
    "print(my_list)"
   ]
  },
  {
   "cell_type": "code",
   "execution_count": 34,
   "metadata": {},
   "outputs": [
    {
     "name": "stdout",
     "output_type": "stream",
     "text": [
      "[1, 2, 34, 'hiii', 45, 'heloo', True]\n"
     ]
    }
   ],
   "source": [
    "my_list=[1,2,34,45,\"heloo\",True]\n",
    "\n",
    "my_list.insert(3,\"hiii\")\n",
    "print(my_list)"
   ]
  },
  {
   "cell_type": "code",
   "execution_count": 35,
   "metadata": {},
   "outputs": [
    {
     "name": "stdout",
     "output_type": "stream",
     "text": [
      "[1, 2, 34, 45, 'heloo', True, 'hiii']\n"
     ]
    }
   ],
   "source": [
    "my_list=[1,2,34,45,\"heloo\",True]\n",
    "\n",
    "my_list.append(\"hiii\")\n",
    "print(my_list)"
   ]
  },
  {
   "cell_type": "code",
   "execution_count": 36,
   "metadata": {},
   "outputs": [
    {
     "name": "stdout",
     "output_type": "stream",
     "text": [
      "[1, 2, 34, 45, 'heloo', True, 1, 2, 34, 45, 'heloo', True, 345678, 'hello'] 14\n"
     ]
    }
   ],
   "source": [
    "my_list=[1,2,34,45,\"heloo\",True]\n",
    "my_list_1=[1,2,34,45,\"heloo\",True,345678,\"hello\"]\n",
    "\n",
    "my_list.extend(my_list_1)\n",
    "\n",
    "print(my_list,len(my_list))"
   ]
  },
  {
   "cell_type": "code",
   "execution_count": 37,
   "metadata": {},
   "outputs": [
    {
     "name": "stdout",
     "output_type": "stream",
     "text": [
      "[1, 2, 45, 'heloo', True] 5\n"
     ]
    }
   ],
   "source": [
    "my_list=[1,2,34,45,\"heloo\",True]\n",
    "\n",
    "\n",
    "my_list.pop(2)\n",
    "\n",
    "print(my_list,len(my_list))"
   ]
  },
  {
   "cell_type": "code",
   "execution_count": 41,
   "metadata": {},
   "outputs": [
    {
     "ename": "NameError",
     "evalue": "name 'my_list' is not defined",
     "output_type": "error",
     "traceback": [
      "\u001b[1;31m---------------------------------------------------------------------------\u001b[0m",
      "\u001b[1;31mNameError\u001b[0m                                 Traceback (most recent call last)",
      "Cell \u001b[1;32mIn[41], line 6\u001b[0m\n\u001b[0;32m      1\u001b[0m my_list\u001b[38;5;241m=\u001b[39m[\u001b[38;5;241m1\u001b[39m,\u001b[38;5;241m2\u001b[39m,\u001b[38;5;241m34\u001b[39m,\u001b[38;5;241m45\u001b[39m,\u001b[38;5;124m\"\u001b[39m\u001b[38;5;124mheloo\u001b[39m\u001b[38;5;124m\"\u001b[39m,\u001b[38;5;28;01mTrue\u001b[39;00m]\n\u001b[0;32m      4\u001b[0m \u001b[38;5;28;01mdel\u001b[39;00m my_list\n\u001b[1;32m----> 6\u001b[0m \u001b[38;5;28mprint\u001b[39m(\u001b[38;5;28mlen\u001b[39m(\u001b[43mmy_list\u001b[49m))\n",
      "\u001b[1;31mNameError\u001b[0m: name 'my_list' is not defined"
     ]
    }
   ],
   "source": [
    "my_list=[1,2,34,45,\"heloo\",True]\n",
    "\n",
    "\n",
    "del my_list\n",
    "\n",
    "print(len(my_list))"
   ]
  },
  {
   "cell_type": "code",
   "execution_count": 42,
   "metadata": {},
   "outputs": [
    {
     "name": "stdout",
     "output_type": "stream",
     "text": [
      "0\n"
     ]
    }
   ],
   "source": [
    "my_list=[1,2,34,45,\"heloo\",True]\n",
    "\n",
    "\n",
    "my_list.clear()\n",
    "\n",
    "print(len(my_list))"
   ]
  },
  {
   "cell_type": "code",
   "execution_count": 43,
   "metadata": {},
   "outputs": [
    {
     "name": "stdout",
     "output_type": "stream",
     "text": [
      "['apple', 'banana', 'dog', 'parrot']\n"
     ]
    }
   ],
   "source": [
    "my_list=[\"dog\",\"apple\",\"parrot\",\"banana\"]\n",
    "my_list.sort()\n",
    "print(my_list)"
   ]
  },
  {
   "cell_type": "code",
   "execution_count": 44,
   "metadata": {},
   "outputs": [
    {
     "name": "stdout",
     "output_type": "stream",
     "text": [
      "['Parrot', 'apple', 'banana', 'dog']\n"
     ]
    }
   ],
   "source": [
    "my_list=[\"dog\",\"apple\",\"Parrot\",\"banana\"]\n",
    "my_list.sort()\n",
    "print(my_list)"
   ]
  },
  {
   "cell_type": "code",
   "execution_count": 50,
   "metadata": {},
   "outputs": [
    {
     "name": "stdout",
     "output_type": "stream",
     "text": [
      "['apple', 'banana', 'dog', 'Parrot']\n"
     ]
    }
   ],
   "source": [
    "my_list=[\"dog\",\"apple\",\"Parrot\",\"banana\"]\n",
    "my_list.sort(key=str.lower)\n",
    "print(my_list)"
   ]
  },
  {
   "cell_type": "code",
   "execution_count": 51,
   "metadata": {},
   "outputs": [
    {
     "name": "stdout",
     "output_type": "stream",
     "text": [
      "['banana', 'Parrot', 'apple', 'dog']\n"
     ]
    }
   ],
   "source": [
    "my_list=[\"dog\",\"apple\",\"Parrot\",\"banana\"]\n",
    "my_list.reverse()\n",
    "print(my_list)"
   ]
  },
  {
   "cell_type": "code",
   "execution_count": 92,
   "metadata": {},
   "outputs": [
    {
     "name": "stdout",
     "output_type": "stream",
     "text": [
      "[-10, -18, 12, 5, 7, 12, -3, 8, 4, -3, 9, 2, 11]\n",
      "[-18, -10, -3, -3, 2, 4, 5, 7, 8, 9, 11, 12, 12]\n",
      "median: 5\n",
      "q1: -3\n",
      "q3: 9\n"
     ]
    }
   ],
   "source": [
    "my_list=[-10,-18,12,5,7,12,-3]\n",
    "my_list_1=[8,4,-3,9,2,11]\n",
    "\n",
    "my_list.extend(my_list_1)\n",
    "\n",
    "print(my_list)\n",
    "my_list.sort()\n",
    "print(my_list)\n",
    "print(\"median:\",my_list[int(len(my_list)/2)])\n",
    "print(\"q1:\",my_list[int(len(my_list)/4)])\n",
    "print(\"q3:\",my_list[int(len(my_list)/4*3)])"
   ]
  },
  {
   "cell_type": "code",
   "execution_count": 1,
   "metadata": {},
   "outputs": [
    {
     "name": "stdout",
     "output_type": "stream",
     "text": [
      "[-10, -18, 12, 5, 7, 12, -3, 8, 4, -3, 9, 2, 11]\n",
      "[-18, -10, -3, -3, 2, 4, 5, 7, 8, 9, 11, 12, 12]\n",
      "median: 5\n",
      "q1: -3\n",
      "q3: 10.0\n"
     ]
    }
   ],
   "source": [
    "my_list=[-10,-18,12,5,7,12,-3]\n",
    "my_list_1=[8,4,-3,9,2,11]\n",
    "\n",
    "my_list.extend(my_list_1)\n",
    "print(my_list)\n",
    "my_list.sort()\n",
    "\n",
    "\n",
    "position_of_median=int((len(my_list)+1)/2)\n",
    "position_of_q1=int(position_of_median/2)\n",
    "position_of_q3=int(((len(my_list)+1)/4)*3)\n",
    "q1= int((my_list[position_of_q1-1]+my_list[position_of_q1])/2)\n",
    "q3= (my_list[position_of_q3-1]+my_list[position_of_q3])/2\n",
    "\n",
    "print(my_list)\n",
    "print(\"median:\",my_list[position_of_median-1])\n",
    "print(\"q1:\",q1)\n",
    "print(\"q3:\",q3)"
   ]
  },
  {
   "cell_type": "markdown",
   "metadata": {},
   "source": [
    "test"
   ]
  },
  {
   "cell_type": "code",
   "execution_count": 3,
   "metadata": {},
   "outputs": [
    {
     "name": "stdout",
     "output_type": "stream",
     "text": [
      "[3, 4]\n"
     ]
    }
   ],
   "source": [
    "my_list=[1,2,3,4,4,5]\n",
    "print(my_list[2:4])"
   ]
  },
  {
   "cell_type": "code",
   "execution_count": 4,
   "metadata": {},
   "outputs": [
    {
     "name": "stdout",
     "output_type": "stream",
     "text": [
      "[1, 2, 3]\n"
     ]
    }
   ],
   "source": [
    "my_list=[1,2,3,4,5]\n",
    "print(my_list[:3])"
   ]
  },
  {
   "cell_type": "code",
   "execution_count": 5,
   "metadata": {},
   "outputs": [
    {
     "name": "stdout",
     "output_type": "stream",
     "text": [
      "[4, 5]\n"
     ]
    }
   ],
   "source": [
    "my_list=[1,2,3,4,5]\n",
    "print(my_list[3:])"
   ]
  },
  {
   "cell_type": "code",
   "execution_count": 6,
   "metadata": {},
   "outputs": [
    {
     "name": "stdout",
     "output_type": "stream",
     "text": [
      "[1, 2, 'dog', 'cat', 4, 5]\n"
     ]
    }
   ],
   "source": [
    "my_list=[1,2,3,4,5]\n",
    "my_list[2:3]=[\"dog\",\"cat\"]\n",
    "print(my_list)"
   ]
  },
  {
   "cell_type": "code",
   "execution_count": 7,
   "metadata": {},
   "outputs": [
    {
     "name": "stdout",
     "output_type": "stream",
     "text": [
      "[1, 2, 10, 3, 4, 5]\n"
     ]
    }
   ],
   "source": [
    "my_list=[1,2,3,4,5]\n",
    "my_list.insert(2,10)\n",
    "print(my_list)"
   ]
  },
  {
   "cell_type": "code",
   "execution_count": null,
   "metadata": {},
   "outputs": [
    {
     "name": "stdout",
     "output_type": "stream",
     "text": [
      "[1, 2, 3, 4, 5, 11]\n"
     ]
    }
   ],
   "source": [
    "my_list=[1,2,3,4,5]\n",
    "my_list.append(11)+\n",
    "print(my_list)\n"
   ]
  },
  {
   "cell_type": "code",
   "execution_count": 11,
   "metadata": {},
   "outputs": [
    {
     "name": "stdout",
     "output_type": "stream",
     "text": [
      "[1, 2, 3, 4, 5, 1, 2, 3, 4, 5]\n"
     ]
    }
   ],
   "source": [
    "my_list=[1,2,3,4,5]\n",
    "my_list_1=[1,2,3,4,5]\n",
    "my_list.extend(my_list_1)\n",
    "print(my_list)"
   ]
  },
  {
   "cell_type": "code",
   "execution_count": 12,
   "metadata": {},
   "outputs": [
    {
     "name": "stdout",
     "output_type": "stream",
     "text": [
      "[1, 3, 4, 5]\n"
     ]
    }
   ],
   "source": [
    "my_list=[1,2,3,4,5]\n",
    "my_list.pop(1)\n",
    "print(my_list)"
   ]
  },
  {
   "cell_type": "code",
   "execution_count": 13,
   "metadata": {},
   "outputs": [
    {
     "name": "stdout",
     "output_type": "stream",
     "text": [
      "[1, 2, 4, 5]\n"
     ]
    }
   ],
   "source": [
    "my_list=[1,2,3,4,5]\n",
    "del my_list[2]\n",
    "print(my_list)"
   ]
  },
  {
   "cell_type": "code",
   "execution_count": 2,
   "metadata": {},
   "outputs": [
    {
     "name": "stdout",
     "output_type": "stream",
     "text": [
      "[]\n"
     ]
    }
   ],
   "source": [
    "my_list=[1,2,3,4,5]\n",
    "my_list.clear()\n",
    "print(my_list)"
   ]
  },
  {
   "cell_type": "code",
   "execution_count": 19,
   "metadata": {},
   "outputs": [
    {
     "name": "stdout",
     "output_type": "stream",
     "text": [
      "['banana', 'Parrot', 'apple', 'dog']\n"
     ]
    }
   ],
   "source": [
    "my_list=[\"dog\",\"apple\",\"Parrot\",\"banana\"]\n",
    "my_list.reverse()\n",
    "print(my_list)"
   ]
  },
  {
   "cell_type": "code",
   "execution_count": 37,
   "metadata": {},
   "outputs": [
    {
     "name": "stdout",
     "output_type": "stream",
     "text": [
      "[-10, -18, 12, 5, 7, 12, -3, 8, 4, -3, 9, 2, 11]\n",
      "[-18, -10, -3, -3, 2, 4, 5, 7, 8, 9, 11, 12, 12]\n",
      "7\n",
      "median : 5\n",
      "3\n",
      "Q1: -3.0\n",
      "10\n",
      "Q3: 10.0\n"
     ]
    }
   ],
   "source": [
    "my_list=[-10,-18,12,5,7,12,-3]\n",
    "my_list_1=[8,4,-3,9,2,11]\n",
    "# find the median q1,q3\n",
    "my_list.extend(my_list_1)\n",
    "print(my_list)\n",
    "\n",
    "my_list.sort()\n",
    "print(my_list)\n",
    "\n",
    "median_position=int((len(my_list)+1)/2)\n",
    "print(median_position)\n",
    "median=my_list[median_position-1]\n",
    "print(\"median :\",median)\n",
    "\n",
    "q1_position=int((len(my_list)+1)/4)\n",
    "print(q1_position)\n",
    "q1=int(my_list[q1_position-1]+my_list[q1_position])/2\n",
    "print(\"Q1:\",q1)\n",
    "\n",
    "q3_position=int(((len(my_list)+1)/4)*3)\n",
    "print(q3_position)\n",
    "q3=int(my_list[q3_position-1]+my_list[q3_position])/2\n",
    "print(\"Q3:\",q3)\n"
   ]
  }
 ],
 "metadata": {
  "kernelspec": {
   "display_name": "Python 3",
   "language": "python",
   "name": "python3"
  },
  "language_info": {
   "codemirror_mode": {
    "name": "ipython",
    "version": 3
   },
   "file_extension": ".py",
   "mimetype": "text/x-python",
   "name": "python",
   "nbconvert_exporter": "python",
   "pygments_lexer": "ipython3",
   "version": "3.13.0"
  }
 },
 "nbformat": 4,
 "nbformat_minor": 2
}
