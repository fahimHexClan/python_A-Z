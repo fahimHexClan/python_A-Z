{
 "cells": [
  {
   "cell_type": "code",
   "execution_count": 1,
   "metadata": {},
   "outputs": [
    {
     "name": "stdout",
     "output_type": "stream",
     "text": [
      "[2 3 4]\n",
      "<class 'numpy.ndarray'>\n"
     ]
    }
   ],
   "source": [
    "import numpy as np\n",
    "\n",
    "a = np.array([2,3,4])\n",
    "\n",
    "print(a)\n",
    "print(type(a))"
   ]
  },
  {
   "cell_type": "code",
   "execution_count": null,
   "metadata": {},
   "outputs": [
    {
     "name": "stdout",
     "output_type": "stream",
     "text": [
      "[ 3  4  9 12]\n",
      "[1 0 3 4]\n",
      "[ 2  4 18 32]\n",
      "[2. 1. 2. 2.]\n",
      "sqr [1.41421356 1.41421356 2.44948974 2.82842712]\n",
      "sum 18\n",
      "mean 4.5\n",
      "4     1\n"
     ]
    }
   ],
   "source": [
    "# preforming basic opretions\n",
    "# Addition\n",
    "import numpy as np\n",
    "\n",
    "array1 = np.array([2,2,6,8])\n",
    "array2 = np.array([1,2,3,4])\n",
    "\n",
    "# Addition\n",
    "result1 = array1 + array2\n",
    "print(result1)\n",
    "\n",
    "#Subtraction\n",
    "result2 = array1 - array2\n",
    "print(result2)\n",
    "\n",
    "#multiplication\n",
    "result3 = array1 * array2\n",
    "print(result3)\n",
    "\n",
    "#Division\n",
    "result4 = array1 / array2\n",
    "print(result4)\n",
    "\n",
    "#square root\n",
    "result5 = np.sqrt(array1)\n",
    "print(\"sqr\",result5)\n",
    "\n",
    "#summation\n",
    "result6 = np.sum(array1)\n",
    "print(\"sum\",result6)\n",
    "\n",
    "#Mean\n",
    "result7 = np.mean(array1)\n",
    "print(\"mean\",result7)\n",
    "\n",
    "#maximum and minimum\n",
    "result8 = np.max(array2)\n",
    "result9 = np.min(array2)\n",
    "print(result8 ,\"   \",result9)\n"
   ]
  },
  {
   "cell_type": "code",
   "execution_count": 18,
   "metadata": {},
   "outputs": [
    {
     "name": "stdout",
     "output_type": "stream",
     "text": [
      "---------2D Array------------\n",
      "[[1 2 3 4]\n",
      " [5 6 7 8]]\n",
      "8\n",
      "(2, 4)\n",
      "---------3D Array------------\n",
      "[[[1 2 3 4]\n",
      "  [5 6 7 8]]\n",
      "\n",
      " [[1 2 3 4]\n",
      "  [5 6 7 8]]]\n",
      "16\n",
      "(2, 2, 4)\n",
      "int64\n"
     ]
    }
   ],
   "source": [
    "#2D and 3D array\n",
    "import numpy as np\n",
    "print(\"---------2D Array------------\")\n",
    "array_2D = np.array([[1,2,3,4],[5,6,7,8]])\n",
    "print(array_2D)\n",
    "print(array_2D.size)\n",
    "print(array_2D.shape)   # row 2 colomn 4\n",
    "\n",
    "print(\"---------3D Array------------\")\n",
    "array_3D = np.array([[[1,2,3,4],[5,6,7,8]],[[1,2,3,4],[5,6,7,8]]])\n",
    "print(array_3D)\n",
    "print(array_3D.size)\n",
    "print(array_3D.shape)   # outerMost 2  rowof2D array2 column4\n",
    "\n",
    "print(array_2D.dtype)"
   ]
  },
  {
   "cell_type": "code",
   "execution_count": 20,
   "metadata": {},
   "outputs": [
    {
     "name": "stdout",
     "output_type": "stream",
     "text": [
      "1\n",
      "2\n",
      "3\n"
     ]
    }
   ],
   "source": [
    "# check Array details\n",
    "import numpy as np\n",
    "\n",
    "array_1 = np.array([5,6,7,8])\n",
    "array_2 = np.array([[1,2,3,4],[5,6,7,8]])\n",
    "array_3 = np.array([[[1,2,3,4],[5,6,7,8]],[[1,2,3,4],[5,6,7,8]]])\n",
    "\n",
    "print(array_1.ndim)\n",
    "print(array_2.ndim)\n",
    "print(array_3.ndim)"
   ]
  },
  {
   "cell_type": "code",
   "execution_count": 24,
   "metadata": {},
   "outputs": [
    {
     "name": "stdout",
     "output_type": "stream",
     "text": [
      "8\n",
      "3\n",
      "7\n"
     ]
    }
   ],
   "source": [
    "#Array indexing\n",
    "\n",
    "array_1 = np.array([5,6,7,8])\n",
    "array_2 = np.array([[1,2,3,4],[5,6,7,8]])\n",
    "array_3 = np.array([[[1,2,3,4],[5,6,7,8]],[[1,2,3,4],[5,6,7,8]]])\n",
    "\n",
    "print(array_1[3])\n",
    "print(array_2[0,2])\n",
    "print(array_3[0,1,2])\n",
    "\n"
   ]
  },
  {
   "cell_type": "code",
   "execution_count": 27,
   "metadata": {},
   "outputs": [
    {
     "name": "stdout",
     "output_type": "stream",
     "text": [
      "[[11 12 13 14 15]\n",
      " [16 17 18 19 20]\n",
      " [21 22 23 24 25]\n",
      " [26 27 28 29 30]]\n",
      "[[ 2  4  6  8 10]\n",
      " [12 14 16 18 20]\n",
      " [22 24 26 28 30]\n",
      " [32 34 36 38 40]]\n",
      "[[  1   4   9  16  25]\n",
      " [ 36  49  64  81 100]\n",
      " [121 144 169 196 225]\n",
      " [256 289 324 361 400]]\n"
     ]
    }
   ],
   "source": [
    "# 1.create a 2d numpy arrray which has daimentions 4 ^ 5 which contains the numbers 1 to 20\n",
    "# performe the following only arry\n",
    "# * add 10 to evry element\n",
    "# * multiply every elemet by 2\n",
    "# * calculate square of each element\n",
    "import numpy as np\n",
    "\n",
    "array_1= np.array([[1,2,3,4,5],[6,7,8,9,10],[11,12,13,14,15],[16,17,18,19,20]])\n",
    "\n",
    "result_1 = array_1 + 10\n",
    "print(result_1)\n",
    "\n",
    "result_2 = array_1*2\n",
    "print(result_2)\n",
    "\n",
    "result_3 = array_1**2\n",
    "print(result_3)"
   ]
  },
  {
   "cell_type": "code",
   "execution_count": 35,
   "metadata": {},
   "outputs": [
    {
     "name": "stdout",
     "output_type": "stream",
     "text": [
      "[False False  True  True  True  True  True]\n",
      "[30 40 50 60 70]\n",
      "[30 40 50 60 70]\n",
      "[30 40]\n"
     ]
    }
   ],
   "source": [
    "#filter elements\n",
    "import numpy as np\n",
    "arr =  np.array([10,20,30,40,50,60,70])\n",
    "\n",
    "#step by steps\n",
    "condition = arr > 25\n",
    "print(condition)\n",
    "\n",
    "filterdArr = arr[condition]\n",
    "print(filterdArr)\n",
    "\n",
    "#------------------------\n",
    "#one step\n",
    "filterdArr1 = arr[arr >25]\n",
    "print(filterdArr1)\n",
    "\n",
    "\n",
    "#multiple conditions\n",
    "filterdArr2 = arr[(arr > 20)&(arr < 50)]\n",
    "print(filterdArr2)\n"
   ]
  },
  {
   "cell_type": "code",
   "execution_count": 2,
   "metadata": {},
   "outputs": [
    {
     "name": "stdout",
     "output_type": "stream",
     "text": [
      "[0 0 0 0 0]\n",
      "[[0. 0. 0.]\n",
      " [0. 0. 0.]]\n",
      "[7 7 7 7]\n",
      "[[10 10 10]\n",
      " [10 10 10]]\n",
      "[[1 2 3]\n",
      " [1 2 3]]\n"
     ]
    }
   ],
   "source": [
    "#initialization Array\n",
    "import numpy as np\n",
    "\n",
    "#-------------------------------------------zeros function------------------\n",
    "array1 = np.zeros(5 ,dtype=\"int\")\n",
    "print(array1)\n",
    "\n",
    "array2 = np.zeros((2,3))\n",
    "print(array2)\n",
    "\n",
    "#-------------------------------------------full function------------------\n",
    "\n",
    "array3 = np.full(4, 7)\n",
    "print(array3)\n",
    "\n",
    "array4 = np.full((2,3), 10)\n",
    "print(array4)\n",
    "\n",
    "array5 = np.full((2,3), [1,2,3])\n",
    "# print(array5)\n",
    "\n",
    "\n",
    "#-------------------------------------------emty function------------------\n",
    "#value widihata garbage values assing wenawa mekedi\n",
    "array6 = np.empty((2,3), dtype=\"int\")\n",
    "print(array6)\n"
   ]
  },
  {
   "cell_type": "code",
   "execution_count": 82,
   "metadata": {},
   "outputs": [
    {
     "name": "stdout",
     "output_type": "stream",
     "text": [
      "[ 2  4  6  8 10 12 14 16 18 20]\n",
      "[40 50]\n"
     ]
    }
   ],
   "source": [
    "#Q1\n",
    "import numpy as np\n",
    "arra_1 = np.array([1,2,3,4,5,6,7,8,9,10,11,12,13,14,15,16,17,18,19,20])\n",
    "evenArr = arra_1[arra_1%2==0]\n",
    "print(evenArr)\n",
    "\n",
    "\n",
    "#Q2\n",
    "arra_2 = np.array([10,20,30,40,50])\n",
    "resultArr = arra_2[arra_2 > np.mean(arra_2) ]\n",
    "print(resultArr)"
   ]
  }
 ],
 "metadata": {
  "kernelspec": {
   "display_name": "Python 3",
   "language": "python",
   "name": "python3"
  },
  "language_info": {
   "codemirror_mode": {
    "name": "ipython",
    "version": 3
   },
   "file_extension": ".py",
   "mimetype": "text/x-python",
   "name": "python",
   "nbconvert_exporter": "python",
   "pygments_lexer": "ipython3",
   "version": "3.12.5"
  }
 },
 "nbformat": 4,
 "nbformat_minor": 2
}
