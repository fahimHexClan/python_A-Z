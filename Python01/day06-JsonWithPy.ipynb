{
 "cells": [
  {
   "cell_type": "code",
   "execution_count": 10,
   "metadata": {},
   "outputs": [
    {
     "name": "stdout",
     "output_type": "stream",
     "text": [
      "{'name': 'John Nash', 'age': 30, 'city': 'angoda'} <class 'dict'>\n"
     ]
    }
   ],
   "source": [
    "# load json file to dict\n",
    "import json \n",
    "\n",
    "json_file_path = 'test.json'\n",
    "\n",
    "with open(json_file_path,'r') as json_file:\n",
    "    data = json.load(json_file)\n",
    "\n",
    "print(data, type(data))"
   ]
  },
  {
   "cell_type": "code",
   "execution_count": 6,
   "metadata": {},
   "outputs": [
    {
     "name": "stdout",
     "output_type": "stream",
     "text": [
      "JSON data hase neem written to test.json\n"
     ]
    }
   ],
   "source": [
    "# dict to json\n",
    "import json \n",
    "\n",
    "data = {\n",
    "    \"name\":\"John Nash\",\n",
    "    \"age\":30,\n",
    "    \"city\":\"angoda\"\n",
    "}\n",
    "json_file_path = 'test.json'\n",
    "\n",
    "with open(json_file_path,'w') as json_file:\n",
    "    json_data = json.dumps(data, indent=4)  #json string ekk thama meken return wenne\n",
    "    json_file.write(json_data)\n",
    "\n",
    "print(f\"JSON data hase neem written to {json_file_path}\")"
   ]
  },
  {
   "cell_type": "code",
   "execution_count": null,
   "metadata": {},
   "outputs": [
    {
     "name": "stdout",
     "output_type": "stream",
     "text": [
      "[{'name': 'alice', 'grade': 85}, {'name': 'bob', 'grade': 72}, {'name': 'prince', 'grade': 90}, {'name': 'alvin', 'grade': 65}] <class 'list'>\n",
      "alice\n",
      "prince\n"
     ]
    }
   ],
   "source": [
    "import json\n",
    "\n",
    "json_file_path = 'students.json'\n",
    "\n",
    "with open(json_file_path,'r') as json_file:\n",
    "    data = json.load(json_file)  #dict thiina list ekk return wenne\n",
    "    print(data, type(data))\n",
    "\n",
    "    for student in data:\n",
    "        if student[\"grade\"]>75:\n",
    "            print(student[\"name\"])\n",
    "\n",
    "\n",
    "name = input(\"Enter name :\")\n",
    "grade= input(\"Enter grade\")\n",
    "student.append(name,grade)\n",
    "with open(json_file_path,'a') as json_file:\n",
    "    json_data = json.dumps(student, indent=4) \n",
    "    json_file.write(json_data)\n"
   ]
  },
  {
   "cell_type": "code",
   "execution_count": null,
   "metadata": {},
   "outputs": [],
   "source": [
    "# csv file\n"
   ]
  }
 ],
 "metadata": {
  "kernelspec": {
   "display_name": "Python 3",
   "language": "python",
   "name": "python3"
  },
  "language_info": {
   "codemirror_mode": {
    "name": "ipython",
    "version": 3
   },
   "file_extension": ".py",
   "mimetype": "text/x-python",
   "name": "python",
   "nbconvert_exporter": "python",
   "pygments_lexer": "ipython3",
   "version": "3.12.5"
  }
 },
 "nbformat": 4,
 "nbformat_minor": 2
}
