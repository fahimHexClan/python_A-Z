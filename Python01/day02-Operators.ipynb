{
 "cells": [
  {
   "cell_type": "code",
   "execution_count": 13,
   "metadata": {},
   "outputs": [
    {
     "name": "stdout",
     "output_type": "stream",
     "text": [
      "4.25\n",
      "4\n",
      "1\n",
      "True\n",
      "True\n",
      "False\n",
      "False\n",
      "False\n",
      "True\n",
      "membership OP:  True\n",
      "membership OP:  False\n",
      "Bitwise OP:  0\n"
     ]
    }
   ],
   "source": [
    "#Arithmetic Operators\n",
    "z = 17/4\n",
    "print(z)\n",
    "\n",
    "z = 17//4\n",
    "print(z)\n",
    "\n",
    "b= 17%4\n",
    "print(b)\n",
    "\n",
    "#Assignment Operators\n",
    "x=5\n",
    "x+=2\n",
    "x-=3\n",
    "x*=2\n",
    "x/=1\n",
    "x//=1\n",
    "\n",
    "#comparison Operators\n",
    "x=5\n",
    "print(x==5)\n",
    "print(x!=6)\n",
    "print(x<2)\n",
    "\n",
    "#logical Operators\n",
    "x = 5 \n",
    "y = 6\n",
    "\n",
    "#logical Operator\n",
    "x= 10\n",
    "print(x>0 and x<100 and x%2==1)\n",
    "\n",
    "#identity Operator\n",
    "g=20\n",
    "h=26\n",
    "print(g is h) #false\n",
    "print(g is not h) # true\n",
    "\n",
    "#membership Operator\n",
    "num = [10,20,30]\n",
    "print(\"membership OP: \",10 in num)\n",
    "print(\"membership OP: \",10 not in num)\n",
    "\n",
    "#Bitwise Operatos\n",
    "x=400\n",
    "y=10\n",
    "z = x&y\n",
    "print(\"Bitwise OP: \",z)\n"
   ]
  },
  {
   "cell_type": "code",
   "execution_count": 9,
   "metadata": {},
   "outputs": [
    {
     "name": "stdout",
     "output_type": "stream",
     "text": [
      "23\n"
     ]
    }
   ],
   "source": [
    "#input funtion\n",
    "x= input(\"Enter a value: \")\n",
    "print(x)"
   ]
  },
  {
   "cell_type": "code",
   "execution_count": null,
   "metadata": {},
   "outputs": [
    {
     "name": "stdout",
     "output_type": "stream",
     "text": [
      "True\n"
     ]
    }
   ],
   "source": [
    "#comparison Operators example with input\n",
    "x = int(input(\"Enter number: \"))\n",
    "y= x%7\n",
    "print(y==0)"
   ]
  },
  {
   "cell_type": "code",
   "execution_count": 15,
   "metadata": {},
   "outputs": [
    {
     "name": "stdout",
     "output_type": "stream",
     "text": [
      "True\n"
     ]
    }
   ],
   "source": [
    "#logical Operator example with input\n",
    "x = int(input(\"Enter value: \"))\n",
    "print(0<x<100 and x%2==1)"
   ]
  }
 ],
 "metadata": {
  "kernelspec": {
   "display_name": "Python 3",
   "language": "python",
   "name": "python3"
  },
  "language_info": {
   "codemirror_mode": {
    "name": "ipython",
    "version": 3
   },
   "file_extension": ".py",
   "mimetype": "text/x-python",
   "name": "python",
   "nbconvert_exporter": "python",
   "pygments_lexer": "ipython3",
   "version": "3.12.5"
  }
 },
 "nbformat": 4,
 "nbformat_minor": 2
}
