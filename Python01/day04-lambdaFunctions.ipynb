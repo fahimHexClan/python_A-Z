{
 "cells": [
  {
   "cell_type": "code",
   "execution_count": null,
   "metadata": {},
   "outputs": [
    {
     "name": "stdout",
     "output_type": "stream",
     "text": [
      "9\n",
      "7\n"
     ]
    }
   ],
   "source": [
    "# create and call lambda function part 1\n",
    "lambda x,y :x+y\n",
    "result=(lambda x,y :x+y)(5,4)\n",
    "print(result)\n",
    "\n",
    "#part 2\n",
    "add = lambda x,y :x+y\n",
    "print(add(4,3))"
   ]
  },
  {
   "cell_type": "code",
   "execution_count": 11,
   "metadata": {},
   "outputs": [
    {
     "name": "stdout",
     "output_type": "stream",
     "text": [
      "[('alice', 20), ('saman', 18), ('ranil', 81), ('piyal', 90)]\n"
     ]
    }
   ],
   "source": [
    "peaple = [(\"alice\",20),(\"saman\",18),(\"ranil\",81),(\"piyal\",90)]\n",
    "\n",
    "# get_ages = lambda myTuple : myTuple[1]>=18\n",
    "\n",
    "# result = list(filter(get_ages,peaple))\n",
    "# print(result)\n",
    "\n",
    "print(list(filter(lambda myTuple : myTuple[1]>=18,peaple)))"
   ]
  },
  {
   "cell_type": "code",
   "execution_count": 13,
   "metadata": {},
   "outputs": [
    {
     "name": "stdout",
     "output_type": "stream",
     "text": [
      "30\n"
     ]
    }
   ],
   "source": [
    "# lambda function usege\n",
    "\n",
    "def myFunction(n):\n",
    "    return lambda a:a*n\n",
    "\n",
    "my_doubler = myFunction(2)\n",
    "print(my_doubler(15))"
   ]
  },
  {
   "cell_type": "code",
   "execution_count": null,
   "metadata": {},
   "outputs": [
    {
     "name": "stdout",
     "output_type": "stream",
     "text": [
      "50\n"
     ]
    }
   ],
   "source": [
    "# Q2\n",
    "print((lambda x,y : x if x>y else y)(50,30))"
   ]
  }
 ],
 "metadata": {
  "kernelspec": {
   "display_name": "Python 3",
   "language": "python",
   "name": "python3"
  },
  "language_info": {
   "codemirror_mode": {
    "name": "ipython",
    "version": 3
   },
   "file_extension": ".py",
   "mimetype": "text/x-python",
   "name": "python",
   "nbconvert_exporter": "python",
   "pygments_lexer": "ipython3",
   "version": "3.12.5"
  }
 },
 "nbformat": 4,
 "nbformat_minor": 2
}
