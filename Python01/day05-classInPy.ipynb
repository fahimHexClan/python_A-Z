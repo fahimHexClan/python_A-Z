{
 "cells": [
  {
   "cell_type": "code",
   "execution_count": null,
   "metadata": {},
   "outputs": [
    {
     "name": "stdout",
     "output_type": "stream",
     "text": [
      "morter vehicle\n",
      "morter vehicle\n"
     ]
    }
   ],
   "source": [
    "class Car:\n",
    "    category = \"morter vehicle\" #class attributes\n",
    "\n",
    "print(Car.category) #derect access only class Atributs can access like this\n",
    "new_car = Car() #object creation access\n",
    "print(new_car.category)"
   ]
  },
  {
   "cell_type": "code",
   "execution_count": 6,
   "metadata": {},
   "outputs": [
    {
     "name": "stdout",
     "output_type": "stream",
     "text": [
      "this is a display function\n"
     ]
    }
   ],
   "source": [
    "class Demo:\n",
    "    def display(self):\n",
    "        print(\"this is a display function\")\n",
    "    \n",
    "new_demo =Demo()  \n",
    "new_demo.display()"
   ]
  },
  {
   "cell_type": "code",
   "execution_count": 12,
   "metadata": {},
   "outputs": [
    {
     "name": "stdout",
     "output_type": "stream",
     "text": [
      "BMW\n",
      "White\n",
      "Tata\n",
      "Red\n"
     ]
    }
   ],
   "source": [
    "class Car:\n",
    "    def __init__(self,model,color):\n",
    "        self.model = model\n",
    "        self.color = color\n",
    "    def display(self):\n",
    "        print(self.model)\n",
    "        print(self.color)\n",
    "    \n",
    "    def update(self,model,color):\n",
    "        self.model = model\n",
    "        self.color = color\n",
    "\n",
    "new_car = Car(\"BMW\",\"White\")\n",
    "new_car.display()\n",
    "new_car.update(\"Tata\",\"Red\")\n",
    "new_car.display()"
   ]
  },
  {
   "cell_type": "code",
   "execution_count": 9,
   "metadata": {},
   "outputs": [
    {
     "name": "stdout",
     "output_type": "stream",
     "text": [
      "1000\n",
      "1200\n",
      "1100\n",
      "Account Balance is low than required amount\n",
      "1100\n"
     ]
    }
   ],
   "source": [
    "class BankAccount:\n",
    "    def __init__(self,account_holder,balance):\n",
    "        self.account_holder = account_holder\n",
    "        self.balance = balance\n",
    "\n",
    "    def deposit(self,amount):\n",
    "        if(amount > 0):\n",
    "            self.balance +=amount\n",
    "        else:\n",
    "            print(\"Invalide amount\")\n",
    "\n",
    "    def withdrow(self,amount):\n",
    "        if(self.balance > amount):\n",
    "            if amount > 0:\n",
    "                self.balance -= amount\n",
    "            else:\n",
    "                print(\"Invalide amount\")\n",
    "        else:\n",
    "            print(\"Account Balance is low than required amount\")\n",
    "\n",
    "    def display(self):\n",
    "        print(self.balance)\n",
    "\n",
    "\n",
    "my_account = BankAccount(\"chathura\",1000)\n",
    "my_account.display()\n",
    "my_account.deposit(200)\n",
    "my_account.display()\n",
    "my_account.withdrow(100)\n",
    "my_account.display()\n",
    "my_account.withdrow(2000)\n",
    "my_account.display()\n",
    "\n",
    "        "
   ]
  },
  {
   "cell_type": "code",
   "execution_count": null,
   "metadata": {},
   "outputs": [
    {
     "name": "stdout",
     "output_type": "stream",
     "text": [
      "Jimi\n",
      "Black\n"
     ]
    }
   ],
   "source": [
    "# inheritense\n",
    "\n",
    "class Animal:\n",
    "    def __init__(self,name):\n",
    "        self.name = name\n",
    "    \n",
    "    def speak(self):\n",
    "        pass\n",
    "\n",
    "class Dog(Animal):\n",
    "    def __init__(self, name,color):\n",
    "        super().__init__(name)\n",
    "        self.color = color\n",
    "\n",
    "    def speak(self):\n",
    "        print(self.name,\"says woof\")\n",
    "\n",
    "class Cat(Animal):\n",
    "    def speak(self):\n",
    "        print(self.name,\"says meaw\")\n",
    "        \n",
    "dog = Dog(\"Jimi\",\"Black\")\n",
    "print(dog.name)\n",
    "print(dog.color)"
   ]
  },
  {
   "cell_type": "code",
   "execution_count": 24,
   "metadata": {},
   "outputs": [
    {
     "name": "stdout",
     "output_type": "stream",
     "text": [
      " title:  Madolduuwa \n",
      " author:  marthinWk \n",
      " PB year:  2002\n",
      " genra:  story \n",
      " isbn:  1234\n",
      " title:  Madolduuwa \n",
      " author:  marthinWk \n",
      " PB year:  2002\n",
      " issue:  1st\n"
     ]
    }
   ],
   "source": [
    "# library management system\n",
    "class LibraryIems:\n",
    "    def __init__(self,title,author,published_year):\n",
    "        self.title = title\n",
    "        self.author = author\n",
    "        self.published_year = published_year\n",
    "    \n",
    "    def display_info(self):\n",
    "        print(\" title: \",self.title,\"\\n\",\"author: \",self.author,\"\\n\",\"PB year: \",self.published_year)\n",
    "\n",
    "\n",
    "class Book(LibraryIems):\n",
    "    def __init__(self, title, author, published_year,genra,isbn):\n",
    "        super().__init__(title, author, published_year)\n",
    "        self.genra = genra\n",
    "        self.isbn = isbn\n",
    "    \n",
    "    # def display_info(self):\n",
    "    #     print(self.title,self.author,self.published_year,self.genra,self.isbn)\n",
    "    def display_info(self):\n",
    "        super().display_info()\n",
    "        print(\" genra: \",self.genra,\"\\n\",\"isbn: \",self.isbn)\n",
    "\n",
    "\n",
    "class Magazine(LibraryIems):\n",
    "    def __init__(self, title, author, published_year,issue):\n",
    "        super().__init__(title, author, published_year)\n",
    "        self.issue = issue\n",
    "    # def display_info(self):\n",
    "    #     print(self.title,self.author,self.published_year,self.issue)\n",
    "    def display_info(self):\n",
    "        super().display_info()\n",
    "        print(\" issue: \",self.issue)\n",
    "    \n",
    "\n",
    "\n",
    "book = Book(\"Madolduuwa\",\"marthinWk\",2002,\"story\",1234)\n",
    "book.display_info()\n",
    "\n",
    "magarzin = Magazine(\"Madolduuwa\",\"marthinWk\",2002,\"1st\")\n",
    "magarzin.display_info()\n",
    "\n",
    "        "
   ]
  },
  {
   "cell_type": "code",
   "execution_count": 25,
   "metadata": {},
   "outputs": [
    {
     "name": "stdout",
     "output_type": "stream",
     "text": [
      "Driving car\n",
      "Driving van\n"
     ]
    }
   ],
   "source": [
    "# polymorphism\n",
    "class Vehicle:\n",
    "    def drive(self):\n",
    "        print(\"Driving\")\n",
    "    \n",
    "class Car(Vehicle):\n",
    "    def drive(self):\n",
    "        print(\"Driving car\")\n",
    "\n",
    "class Van(Vehicle):\n",
    "    def drive(self):\n",
    "        print(\"Driving van\")\n",
    "\n",
    "v1 = Car()\n",
    "v1.drive()\n",
    "\n",
    "v2 = Van()\n",
    "v2.drive()\n",
    "\n"
   ]
  },
  {
   "cell_type": "code",
   "execution_count": null,
   "metadata": {},
   "outputs": [
    {
     "name": "stdout",
     "output_type": "stream",
     "text": [
      "test1\n",
      "this is a protected method\n"
     ]
    }
   ],
   "source": [
    "# encapsulation\n",
    "class MyClass:\n",
    "    def __init__(self,protected_var,privet_var):\n",
    "        self._protected_var = protected_var #protected vareable\n",
    "        self.__privet_var = privet_var #privet vareable\n",
    "    def _protected_method(self):\n",
    "        print(\"this is a protected method\")\n",
    "    \n",
    "    def __privet_method(self):\n",
    "        print(\"this is a privet method\")\n",
    "\n",
    "\n",
    "my_obj = MyClass(\"test1\",\"test2\")\n",
    "\n",
    "print(my_obj._protected_var)\n",
    "# print(my_obj.__privet_var)\n",
    "my_obj._protected_method()\n",
    "my_obj.__privet_method()\n",
    "        "
   ]
  },
  {
   "cell_type": "code",
   "execution_count": 30,
   "metadata": {},
   "outputs": [
    {
     "name": "stdout",
     "output_type": "stream",
     "text": [
      "value of data :  Example Data\n",
      "value of data :  Hello\n"
     ]
    }
   ],
   "source": [
    "# privet class\n",
    "class Example:\n",
    "    def __init__(self):\n",
    "        self.__data = \"Example Data\"\n",
    "    \n",
    "    def get_value(self):\n",
    "        print(\"value of data : \",self.__data)\n",
    "    \n",
    "    def set_value(self,value):\n",
    "        self.__data = value\n",
    "    \n",
    "my_example = Example()\n",
    "my_example.get_value()\n",
    "my_example.set_value(\"Hello\")\n",
    "my_example.get_value()"
   ]
  },
  {
   "cell_type": "code",
   "execution_count": 33,
   "metadata": {},
   "outputs": [
    {
     "name": "stdout",
     "output_type": "stream",
     "text": [
      "some genaric sound\n",
      "roxy is barcking\n"
     ]
    }
   ],
   "source": [
    "# protected class\n",
    "\n",
    "class Animal:\n",
    "    def __init__(self,name):\n",
    "        self.name = name\n",
    "\n",
    "    def _make_sound(self):\n",
    "        print(\"some genaric sound\")\n",
    "\n",
    "class Dog(Animal):\n",
    "    def barck(self):\n",
    "        self._make_sound()\n",
    "        print(self.name, \"is barcking\")\n",
    "\n",
    "dog = Dog(\"roxy\")\n",
    "dog.barck()\n",
    "        "
   ]
  },
  {
   "cell_type": "code",
   "execution_count": 38,
   "metadata": {},
   "outputs": [
    {
     "name": "stdout",
     "output_type": "stream",
     "text": [
      "Two distring red root -5.5\n"
     ]
    }
   ],
   "source": [
    "# exersize2\n",
    "class QuadatricEquation:\n",
    "    def __init__(self,a,b,c):\n",
    "        self.__a = a\n",
    "        self.__b = b\n",
    "        self.__c = c\n",
    "    def __discriminet(self):\n",
    "        return self.__b**2 - 4*self.__a*self.__c\n",
    "    \n",
    "    def find_roods(self):\n",
    "        D = self. __discriminet()\n",
    "        if D == 0:\n",
    "            root_1 = (self.__b+D**0.5/2*self.__a)\n",
    "            print(\"One real root\",root_1)\n",
    "        elif D > 0:\n",
    "            root_2 = (self.__b-D**0.5/2*self.__a)\n",
    "            print(\"Two distring red root\",root_2)\n",
    "        else:\n",
    "            print(\"Two complex root\")\n",
    "\n",
    "\n",
    "qe=QuadatricEquation(1,-5,6)\n",
    "qe.find_roods()\n",
    "\n",
    "        \n"
   ]
  }
 ],
 "metadata": {
  "kernelspec": {
   "display_name": "Python 3",
   "language": "python",
   "name": "python3"
  },
  "language_info": {
   "codemirror_mode": {
    "name": "ipython",
    "version": 3
   },
   "file_extension": ".py",
   "mimetype": "text/x-python",
   "name": "python",
   "nbconvert_exporter": "python",
   "pygments_lexer": "ipython3",
   "version": "3.12.5"
  }
 },
 "nbformat": 4,
 "nbformat_minor": 2
}
