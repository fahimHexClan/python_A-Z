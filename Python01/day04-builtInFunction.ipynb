{
 "cells": [
  {
   "cell_type": "code",
   "execution_count": null,
   "metadata": {},
   "outputs": [
    {
     "name": "stdout",
     "output_type": "stream",
     "text": [
      "<map object at 0x0000014F271E5360> <class 'map'>\n",
      "[25, 16, 4] <class 'list'>\n"
     ]
    }
   ],
   "source": [
    "#built in function  \n",
    "# // map();\n",
    "my_list = [5,4,2]\n",
    "\n",
    "def find_squar(x):\n",
    "    return x*x\n",
    "\n",
    "result = map(find_squar,my_list)\n",
    "print(result,type(result))\n",
    "\n",
    "result=list(result)\n",
    "print(result,type(result))"
   ]
  },
  {
   "cell_type": "code",
   "execution_count": 6,
   "metadata": {},
   "outputs": [
    {
     "name": "stdout",
     "output_type": "stream",
     "text": [
      "[19, 17, 11, 6]\n"
     ]
    }
   ],
   "source": [
    "my_list_1 =[10,12,7,5]\n",
    "my_list_2 =[9,5,4,1]\n",
    "\n",
    "def add_numbers(x,y):\n",
    "    return x+y\n",
    "\n",
    "result1 = map(add_numbers,my_list_1,my_list_2)\n",
    "\n",
    "result1 = list(result1)\n",
    "print(result1)"
   ]
  },
  {
   "cell_type": "code",
   "execution_count": 7,
   "metadata": {},
   "outputs": [
    {
     "name": "stdout",
     "output_type": "stream",
     "text": [
      "[68.0, 86.0, 77.0, 104.0, 122.0]\n"
     ]
    }
   ],
   "source": [
    "celsius_list= [20,30,25,40,50]\n",
    "\n",
    "def convert_to_fahrenheit(x):\n",
    "    return x*(9/5)+32\n",
    "\n",
    "result = list(map(convert_to_fahrenheit,celsius_list))\n",
    "\n",
    "print(result)"
   ]
  },
  {
   "cell_type": "code",
   "execution_count": null,
   "metadata": {},
   "outputs": [
    {
     "name": "stdout",
     "output_type": "stream",
     "text": [
      "[8, 12, 14]\n"
     ]
    }
   ],
   "source": [
    "# // filter\n",
    "my_list = [5,7,8,3,12,14]\n",
    "\n",
    "def findEven(x):\n",
    "    # if (x%2==0):\n",
    "    #     return x\n",
    "    return x%2 ==0\n",
    "    \n",
    "    \n",
    "result = list(filter(findEven,my_list))\n",
    "print(result)\n"
   ]
  }
 ],
 "metadata": {
  "kernelspec": {
   "display_name": "Python 3",
   "language": "python",
   "name": "python3"
  },
  "language_info": {
   "codemirror_mode": {
    "name": "ipython",
    "version": 3
   },
   "file_extension": ".py",
   "mimetype": "text/x-python",
   "name": "python",
   "nbconvert_exporter": "python",
   "pygments_lexer": "ipython3",
   "version": "3.12.5"
  }
 },
 "nbformat": 4,
 "nbformat_minor": 2
}
