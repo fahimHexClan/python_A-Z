{
 "cells": [
  {
   "cell_type": "code",
   "execution_count": null,
   "metadata": {},
   "outputs": [
    {
     "name": "stdout",
     "output_type": "stream",
     "text": [
      "(1, 2, 3) <class 'tuple'>\n"
     ]
    }
   ],
   "source": [
    "#arbitrory positional argimants\n",
    "def arbitrory_positional_arg(*args):\n",
    "    print(args,type(args))\n",
    "\n",
    "arbitrory_positional_arg(1,2,3)"
   ]
  },
  {
   "cell_type": "code",
   "execution_count": null,
   "metadata": {},
   "outputs": [
    {
     "data": {
      "text/plain": [
       "17"
      ]
     },
     "execution_count": 8,
     "metadata": {},
     "output_type": "execute_result"
    }
   ],
   "source": [
    "#arbitrory positional argimants example\n",
    "def calculate_sum(*args):\n",
    "    total=0\n",
    "    for num in args:\n",
    "        total+=num\n",
    "    return total\n",
    "\n",
    "calculate_sum(1,2,4,10)"
   ]
  },
  {
   "cell_type": "code",
   "execution_count": 14,
   "metadata": {},
   "outputs": [
    {
     "name": "stdout",
     "output_type": "stream",
     "text": [
      "student name :  chathura\n",
      "max is :  20\n",
      "min is :  10\n",
      "avarage is :  15.0\n"
     ]
    }
   ],
   "source": [
    "def summarite_grades(name,*marks):\n",
    "    print(\"student name : \",name)\n",
    "    if not marks:\n",
    "        print(\"grades not avalable\")\n",
    "    else:\n",
    "        print(\"max is : \",max(marks))\n",
    "        print(\"min is : \",min(marks))\n",
    "        print(\"avarage is : \",sum(marks)/len(marks))\n",
    "\n",
    "\n",
    "summarite_grades(\"chathura\",10,20,15)"
   ]
  },
  {
   "cell_type": "code",
   "execution_count": 7,
   "metadata": {},
   "outputs": [
    {
     "name": "stdout",
     "output_type": "stream",
     "text": [
      "{'name': 'chathura', 'age': 22, 'city': 'kaluthara'} <class 'dict'>\n",
      "name=chathura\n",
      "age=22\n",
      "city=kaluthara\n"
     ]
    }
   ],
   "source": [
    "# arbitrory key word arguments\n",
    "def arbitrory_keyword_arguments(**kargs):\n",
    "    print(kargs,type(kargs))\n",
    "    for key,value in kargs.items():\n",
    "        print(f\"{key}={value}\")\n",
    "        # print(\"key = \",key,\"value = \",value)\n",
    "arbitrory_keyword_arguments(name=\"chathura\",age=22,city=\"kaluthara\")"
   ]
  },
  {
   "cell_type": "code",
   "execution_count": 18,
   "metadata": {},
   "outputs": [
    {
     "name": "stdout",
     "output_type": "stream",
     "text": [
      "chathura\n",
      "age  :  22\n",
      "city  :  mathugama\n",
      "dob  :  2002/01/31\n",
      "{'name': 'chathura', 'age': 22, 'city': 'mathugama', 'dob': '2002/01/31'}\n"
     ]
    }
   ],
   "source": [
    "# Q1\n",
    "\n",
    "def employ_info(name,**details):\n",
    "    print(name)\n",
    "    for key,value in details.items():\n",
    "        print(key,\" : \",value)\n",
    "    return {\"name\":name}|details\n",
    "\n",
    "my_dict=employ_info(\"chathura\",age=22,city=\"mathugama\",dob=\"2002/01/31\")\n",
    "print(my_dict)\n",
    "\n"
   ]
  }
 ],
 "metadata": {
  "kernelspec": {
   "display_name": "Python 3",
   "language": "python",
   "name": "python3"
  },
  "language_info": {
   "codemirror_mode": {
    "name": "ipython",
    "version": 3
   },
   "file_extension": ".py",
   "mimetype": "text/x-python",
   "name": "python",
   "nbconvert_exporter": "python",
   "pygments_lexer": "ipython3",
   "version": "3.12.5"
  }
 },
 "nbformat": 4,
 "nbformat_minor": 2
}
